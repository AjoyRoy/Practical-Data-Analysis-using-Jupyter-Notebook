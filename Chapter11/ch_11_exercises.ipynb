{
  "cells": [
    {
      "metadata": {
        "collapsed": true
      },
      "cell_type": "markdown",
      "source": "## Elements of a NLP model"
    },
    {
      "metadata": {},
      "cell_type": "markdown",
      "source": "Import the following libraries by adding the following command in your Jupyter Notebook and run the cell. Feel free to follow along by creating your own Notebook and I have placed a copy in GitHub for reference:"
    },
    {
      "metadata": {
        "trusted": true
      },
      "cell_type": "code",
      "source": "import nltk",
      "execution_count": 1,
      "outputs": []
    },
    {
      "metadata": {},
      "cell_type": "markdown",
      "source": "Next, we download the specific corpus we want to use. Alternatively you can download all the packages using the all parameter. If you are behind a firewall, there is an nltk.set_proxy option available. Check the documentation on nltk.org for more details:"
    },
    {
      "metadata": {
        "trusted": true
      },
      "cell_type": "code",
      "source": "nltk.download(\"names\")",
      "execution_count": 2,
      "outputs": [
        {
          "output_type": "stream",
          "text": "[nltk_data] Downloading package names to /home/nbuser/nltk_data...\n[nltk_data]   Unzipping corpora/names.zip.\n",
          "name": "stdout"
        },
        {
          "output_type": "execute_result",
          "execution_count": 2,
          "data": {
            "text/plain": "True"
          },
          "metadata": {}
        }
      ]
    },
    {
      "metadata": {},
      "cell_type": "markdown",
      "source": "We can use the following command to reference the corpus:"
    },
    {
      "metadata": {
        "trusted": true
      },
      "cell_type": "code",
      "source": "from nltk.corpus import names",
      "execution_count": 3,
      "outputs": []
    },
    {
      "metadata": {},
      "cell_type": "markdown",
      "source": "To explore the data available in this corpus, lets run the print command against the two input sources which are male.txt and female.txt:"
    },
    {
      "metadata": {
        "trusted": true
      },
      "cell_type": "code",
      "source": "print(\"Count of Words in male.txt:\", len(names.words('male.txt')))\nprint(\"Count of Words in female.txt:\", len(names.words('female.txt')))",
      "execution_count": 4,
      "outputs": [
        {
          "output_type": "stream",
          "text": "Count of Words in male.txt: 2943\nCount of Words in female.txt: 5001\n",
          "name": "stdout"
        }
      ]
    },
    {
      "metadata": {},
      "cell_type": "markdown",
      "source": "To see a list of the first few words found in each source, lets run the print command against the two input sources which are male.txt and female.txt:"
    },
    {
      "metadata": {
        "trusted": true
      },
      "cell_type": "code",
      "source": "print(\"Sample list Male names:\", names.words('male.txt')[0:5])\nprint(\"Sample list Female names:\", names.words('female.txt')[0:5])",
      "execution_count": 5,
      "outputs": [
        {
          "output_type": "stream",
          "text": "Sample list Male names: ['Aamir', 'Aaron', 'Abbey', 'Abbie', 'Abbot']\nSample list Female names: ['Abagael', 'Abagail', 'Abbe', 'Abbey', 'Abbi']\n",
          "name": "stdout"
        }
      ]
    },
    {
      "metadata": {},
      "cell_type": "markdown",
      "source": "## create a Prediction Output"
    },
    {
      "metadata": {},
      "cell_type": "markdown",
      "source": "Create a gender_features function that returns the last letter of any inputted word. The model will use this classifier feature as input to predict the output which is based on the concept that first names that end the letters a, e and I are more likely to be female and first names ending in k, o, r, s or t are more likely to be male. There will be no output after you run the cell:"
    },
    {
      "metadata": {
        "trusted": true
      },
      "cell_type": "code",
      "source": "def gender_features(word):       \n    return {'last_letter': word[-1]}",
      "execution_count": 7,
      "outputs": []
    },
    {
      "metadata": {},
      "cell_type": "markdown",
      "source": "To confirm the function will return a value, enter the following command which prints the last character of any inputted name or word:"
    },
    {
      "metadata": {
        "trusted": true
      },
      "cell_type": "code",
      "source": "gender_features('Debra')",
      "execution_count": 8,
      "outputs": [
        {
          "output_type": "execute_result",
          "execution_count": 8,
          "data": {
            "text/plain": "{'last_letter': 'a'}"
          },
          "metadata": {}
        }
      ]
    },
    {
      "metadata": {},
      "cell_type": "markdown",
      "source": "Create a new variable named labeled_names that loops through both source gender files and assigns a name value pair each name so it can be identified as either male or female for input into the model. To see results after the loop has completed, we print the first few values to validate the labeled_names variable contains data:"
    },
    {
      "metadata": {
        "trusted": true
      },
      "cell_type": "code",
      "source": "labeled_names = ([(name, 'male') for name in names.words('male.txt')] + [(name, 'female') for name in names.words('female.txt')])\nprint(labeled_names[0:5])",
      "execution_count": 9,
      "outputs": [
        {
          "output_type": "stream",
          "text": "[('Aamir', 'male'), ('Aaron', 'male'), ('Abbey', 'male'), ('Abbie', 'male'), ('Abbot', 'male')]\n",
          "name": "stdout"
        }
      ]
    },
    {
      "metadata": {},
      "cell_type": "markdown",
      "source": "Since the model should be trained using a random list of values to avoid any bias, we will input the random function and shuffle all the name and gender combinations which will change the sequence of how they are stored in the labeled_names variable. I added a print so you can see the difference between the output created in the prior step:"
    },
    {
      "metadata": {
        "trusted": true
      },
      "cell_type": "code",
      "source": "import random\nrandom.shuffle(labeled_names)\nprint(labeled_names[0:5])",
      "execution_count": 10,
      "outputs": [
        {
          "output_type": "stream",
          "text": "[('Anica', 'female'), ('Carson', 'male'), ('Hart', 'male'), ('Emelyne', 'female'), ('Patrice', 'male')]\n",
          "name": "stdout"
        }
      ]
    },
    {
      "metadata": {},
      "cell_type": "markdown",
      "source": "Next we are going to train the model by creating features for each gender using the last letter from each name in the labeled_names variable. We print the new variable called featuresets so you can see how the feature will be used in the next step:"
    },
    {
      "metadata": {
        "trusted": true
      },
      "cell_type": "code",
      "source": "featuresets = [(gender_features(n), gender) for (n, gender) in labeled_names]\nprint(featuresets[0:5])",
      "execution_count": 11,
      "outputs": [
        {
          "output_type": "stream",
          "text": "[({'last_letter': 'a'}, 'female'), ({'last_letter': 'n'}, 'male'), ({'last_letter': 't'}, 'male'), ({'last_letter': 'e'}, 'female'), ({'last_letter': 'e'}, 'male')]\n",
          "name": "stdout"
        }
      ]
    },
    {
      "metadata": {},
      "cell_type": "markdown",
      "source": "Next we are going to slice the data from the featureset variable list into two input data sets called train_set and test_set. Once we have those datasets separated, we can use the train_set as an input for the classifier. We use the len() function to give us a sense of the size of each data set:"
    },
    {
      "metadata": {
        "trusted": true
      },
      "cell_type": "code",
      "source": "train_set, test_set = featuresets[500:], featuresets[:500]\nprint(\"Count of features in Training Set:\", len(train_set))\nprint(\"Count of features in Test Set:\", len(test_set))",
      "execution_count": 12,
      "outputs": [
        {
          "output_type": "stream",
          "text": "Count of features in Training Set: 7444\nCount of features in Test Set: 500\n",
          "name": "stdout"
        }
      ]
    },
    {
      "metadata": {},
      "cell_type": "markdown",
      "source": "We will now pass the train_set variable as an input to the NLTK Naïve Bayes Classifier. The model is assigned the name classifier so you can call it like a function in the next step. There will be no output once you run the cell:"
    },
    {
      "metadata": {
        "trusted": true
      },
      "cell_type": "code",
      "source": "classifier = nltk.NaiveBayesClassifier.train(train_set)",
      "execution_count": 13,
      "outputs": []
    },
    {
      "metadata": {},
      "cell_type": "markdown",
      "source": "We will now validate the results of the model by sending random names into the model using the following commands:"
    },
    {
      "metadata": {
        "trusted": true
      },
      "cell_type": "code",
      "source": "classifier.classify(gender_features('Aaron'))",
      "execution_count": 15,
      "outputs": [
        {
          "output_type": "execute_result",
          "execution_count": 15,
          "data": {
            "text/plain": "'male'"
          },
          "metadata": {}
        }
      ]
    },
    {
      "metadata": {
        "trusted": true
      },
      "cell_type": "code",
      "source": "classifier.classify(gender_features('Marc'))",
      "execution_count": 16,
      "outputs": [
        {
          "output_type": "execute_result",
          "execution_count": 16,
          "data": {
            "text/plain": "'male'"
          },
          "metadata": {}
        }
      ]
    },
    {
      "metadata": {
        "trusted": true
      },
      "cell_type": "code",
      "source": "classifier.classify(gender_features('Debra'))",
      "execution_count": 17,
      "outputs": [
        {
          "output_type": "execute_result",
          "execution_count": 17,
          "data": {
            "text/plain": "'female'"
          },
          "metadata": {}
        }
      ]
    },
    {
      "metadata": {
        "trusted": true
      },
      "cell_type": "code",
      "source": "classifier.classify(gender_features('Deb'))",
      "execution_count": 18,
      "outputs": [
        {
          "output_type": "execute_result",
          "execution_count": 18,
          "data": {
            "text/plain": "'male'"
          },
          "metadata": {}
        }
      ]
    },
    {
      "metadata": {
        "trusted": true
      },
      "cell_type": "code",
      "source": "classifier.classify(gender_features('Seth'))",
      "execution_count": 19,
      "outputs": [
        {
          "output_type": "execute_result",
          "execution_count": 19,
          "data": {
            "text/plain": "'female'"
          },
          "metadata": {}
        }
      ]
    },
    {
      "metadata": {},
      "cell_type": "markdown",
      "source": "## Sentiment analysis in action"
    },
    {
      "metadata": {},
      "cell_type": "markdown",
      "source": "Import the NLTK library and download the vader_lexicon library so all the functions and features will be available:"
    },
    {
      "metadata": {
        "trusted": true
      },
      "cell_type": "code",
      "source": "import nltk",
      "execution_count": 22,
      "outputs": []
    },
    {
      "metadata": {
        "trusted": true
      },
      "cell_type": "code",
      "source": "nltk.download('vader_lexicon')",
      "execution_count": 23,
      "outputs": [
        {
          "output_type": "stream",
          "text": "[nltk_data] Downloading package vader_lexicon to\n[nltk_data]     /home/nbuser/nltk_data...\n[nltk_data]   Package vader_lexicon is already up-to-date!\n",
          "name": "stdout"
        },
        {
          "output_type": "execute_result",
          "execution_count": 23,
          "data": {
            "text/plain": "True"
          },
          "metadata": {}
        }
      ]
    },
    {
      "metadata": {},
      "cell_type": "markdown",
      "source": "Import the SentimentIntensityAnalyzer from the NLTK Vader Library for use in the next steps. There will be no output when you run the cell:"
    },
    {
      "metadata": {
        "trusted": true
      },
      "cell_type": "code",
      "source": "from nltk.sentiment.vader import SentimentIntensityAnalyzer",
      "execution_count": 24,
      "outputs": []
    },
    {
      "metadata": {},
      "cell_type": "markdown",
      "source": "To make it easier, we will assign a variable object named my_ analyser and assign it to the SentimentIntensityAnalyzer() model. There will be no output after you run the cell:"
    },
    {
      "metadata": {
        "trusted": true
      },
      "cell_type": "code",
      "source": "my_analyzer = SentimentIntensityAnalyzer()",
      "execution_count": 25,
      "outputs": []
    },
    {
      "metadata": {},
      "cell_type": "markdown",
      "source": "Next we will create a variable named my_input_sentence and assign it string value of I HATE my school. On the second line we will call the model and pass the variable as an argument to the polarity_scores() function:"
    },
    {
      "metadata": {
        "trusted": true
      },
      "cell_type": "code",
      "source": "my_input_sentence = \"I HATE my school!\"\nmy_analyzer.polarity_scores(my_input_sentence)",
      "execution_count": 26,
      "outputs": [
        {
          "output_type": "execute_result",
          "execution_count": 26,
          "data": {
            "text/plain": "{'neg': 0.703, 'neu': 0.297, 'pos': 0.0, 'compound': -0.6932}"
          },
          "metadata": {}
        }
      ]
    },
    {
      "metadata": {},
      "cell_type": "markdown",
      "source": "We are going to import additional libraries to work with and analyze the results so include the following commands:"
    },
    {
      "metadata": {
        "trusted": true
      },
      "cell_type": "code",
      "source": "import pandas as pd\nimport numpy as np\n%matplotlib inline",
      "execution_count": 27,
      "outputs": []
    },
    {
      "metadata": {},
      "cell_type": "markdown",
      "source": "We also have to install a new library named twython so include the following command to install it in your Notebook session:"
    },
    {
      "metadata": {
        "trusted": true
      },
      "cell_type": "code",
      "source": "!pip install twython",
      "execution_count": 28,
      "outputs": [
        {
          "output_type": "stream",
          "text": "Collecting twython\n  Downloading https://files.pythonhosted.org/packages/24/80/579b96dfaa9b536efde883d4f0df7ea2598a6f3117a6dd572787f4a2bcfb/twython-3.8.2-py3-none-any.whl\nRequirement already satisfied: requests-oauthlib>=0.4.0 in /home/nbuser/anaconda3_501/lib/python3.6/site-packages (from twython) (1.3.0)\nRequirement already satisfied: requests>=2.1.0 in /home/nbuser/anaconda3_501/lib/python3.6/site-packages (from twython) (2.22.0)\nRequirement already satisfied: oauthlib>=3.0.0 in /home/nbuser/anaconda3_501/lib/python3.6/site-packages (from requests-oauthlib>=0.4.0->twython) (3.1.0)\nRequirement already satisfied: chardet<3.1.0,>=3.0.2 in /home/nbuser/anaconda3_501/lib/python3.6/site-packages (from requests>=2.1.0->twython) (3.0.4)\nRequirement already satisfied: certifi>=2017.4.17 in /home/nbuser/anaconda3_501/lib/python3.6/site-packages (from requests>=2.1.0->twython) (2018.10.15)\nRequirement already satisfied: urllib3!=1.25.0,!=1.25.1,<1.26,>=1.21.1 in /home/nbuser/anaconda3_501/lib/python3.6/site-packages (from requests>=2.1.0->twython) (1.23)\nRequirement already satisfied: idna<2.9,>=2.5 in /home/nbuser/anaconda3_501/lib/python3.6/site-packages (from requests>=2.1.0->twython) (2.7)\nInstalling collected packages: twython\nSuccessfully installed twython-3.8.2\n\u001b[33mWARNING: You are using pip version 19.3.1; however, version 20.1.1 is available.\nYou should consider upgrading via the 'pip install --upgrade pip' command.\u001b[0m\n",
          "name": "stdout"
        }
      ]
    },
    {
      "metadata": {},
      "cell_type": "markdown",
      "source": "If required, re-import the NLTK library and import the SentimentIntensityAnalyzer module. No output will be displayed after you run the cell:"
    },
    {
      "metadata": {
        "trusted": true
      },
      "cell_type": "code",
      "source": "import nltk\nfrom nltk.sentiment.vader import SentimentIntensityAnalyzer",
      "execution_count": 29,
      "outputs": []
    },
    {
      "metadata": {},
      "cell_type": "markdown",
      "source": "Define a variable as analyzer to easier reference later in the code. No output will be displayed after you run the cell:"
    },
    {
      "metadata": {
        "trusted": true
      },
      "cell_type": "code",
      "source": "analyzer = SentimentIntensityAnalyzer()",
      "execution_count": 30,
      "outputs": []
    },
    {
      "metadata": {},
      "cell_type": "markdown",
      "source": "If required, re-download the NLTK vader_lexicon:"
    },
    {
      "metadata": {
        "trusted": true
      },
      "cell_type": "code",
      "source": "nltk.download('vader_lexicon')",
      "execution_count": 31,
      "outputs": [
        {
          "output_type": "stream",
          "text": "[nltk_data] Downloading package vader_lexicon to\n[nltk_data]     /home/nbuser/nltk_data...\n[nltk_data]   Package vader_lexicon is already up-to-date!\n",
          "name": "stdout"
        },
        {
          "output_type": "execute_result",
          "execution_count": 31,
          "data": {
            "text/plain": "True"
          },
          "metadata": {}
        }
      ]
    },
    {
      "metadata": {},
      "cell_type": "markdown",
      "source": "Now we will read in the csv file using the pandas library and assign the result to a variable named sentences. To validate the results, you run the len() function:"
    },
    {
      "metadata": {
        "trusted": true
      },
      "cell_type": "code",
      "source": "sentences = pd.read_csv('social_media_sample_file.csv')\nlen(sentences)",
      "execution_count": 32,
      "outputs": [
        {
          "output_type": "execute_result",
          "execution_count": 32,
          "data": {
            "text/plain": "10"
          },
          "metadata": {}
        }
      ]
    },
    {
      "metadata": {},
      "cell_type": "markdown",
      "source": "To preview the data and validate your DataFrame is loaded correctly, you can run a head() command:"
    },
    {
      "metadata": {
        "trusted": true
      },
      "cell_type": "code",
      "source": "sentences.head()",
      "execution_count": 42,
      "outputs": [
        {
          "output_type": "execute_result",
          "execution_count": 42,
          "data": {
            "text/html": "<div>\n<style scoped>\n    .dataframe tbody tr th:only-of-type {\n        vertical-align: middle;\n    }\n\n    .dataframe tbody tr th {\n        vertical-align: top;\n    }\n\n    .dataframe thead th {\n        text-align: right;\n    }\n</style>\n<table border=\"1\" class=\"dataframe\">\n  <thead>\n    <tr style=\"text-align: right;\">\n      <th></th>\n      <th>id</th>\n      <th>text</th>\n    </tr>\n  </thead>\n  <tbody>\n    <tr>\n      <th>0</th>\n      <td>1</td>\n      <td>I Hate my School!!!</td>\n    </tr>\n    <tr>\n      <th>1</th>\n      <td>2</td>\n      <td>@socialmediahandle I learned something new today</td>\n    </tr>\n    <tr>\n      <th>2</th>\n      <td>3</td>\n      <td>I need to take a cool trip to Austraila!</td>\n    </tr>\n    <tr>\n      <th>3</th>\n      <td>4</td>\n      <td>The restaurant service was amazing!</td>\n    </tr>\n    <tr>\n      <th>4</th>\n      <td>5</td>\n      <td>I will never go back there again!</td>\n    </tr>\n  </tbody>\n</table>\n</div>",
            "text/plain": "   id                                              text\n0   1                               I Hate my School!!!\n1   2  @socialmediahandle I learned something new today\n2   3          I need to take a cool trip to Austraila!\n3   4               The restaurant service was amazing!\n4   5                 I will never go back there again!"
          },
          "metadata": {}
        }
      ]
    },
    {
      "metadata": {},
      "cell_type": "markdown",
      "source": "The next block of code includes a few steps which look through the DataFrame, analyze the text source, apply the VADER Sentiment metrics and assign the results to a numpy array to easier usage. No output will be displayed after you run the cell:"
    },
    {
      "metadata": {
        "trusted": true
      },
      "cell_type": "code",
      "source": "i=0 #reset counter for loop\n\n#initialize variables\nmy_vader_score_compound = [ ] \nmy_vader_score_positive = [ ]  \nmy_vader_score_negative = [ ] \nmy_vader_score_neutral = [ ] \n\nwhile (i<len(sentences)):\n\n    my_analyzer = analyzer.polarity_scores(sentences.iloc[i]['text'])\n    my_vader_score_compound.append(my_analyzer['compound'])\n    my_vader_score_positive.append(my_analyzer['pos'])\n    my_vader_score_negative.append(my_analyzer['neg'])    \n    my_vader_score_neutral.append(my_analyzer['neu']) \n    \n    i = i+1\n    \n#converting sentiment values to numpy for easier usage\nmy_vader_score_compound = np.array(my_vader_score_compound)\nmy_vader_score_positive = np.array(my_vader_score_positive)\nmy_vader_score_negative = np.array(my_vader_score_negative)\nmy_vader_score_neutral = np.array(my_vader_score_neutral)",
      "execution_count": 43,
      "outputs": []
    },
    {
      "metadata": {},
      "cell_type": "markdown",
      "source": "Now we can extend the source DataFrame to include the results from the VADER Sentiment model. This will create four new columns and no output will be displayed after you run the cell:"
    },
    {
      "metadata": {
        "trusted": true
      },
      "cell_type": "code",
      "source": "sentences['my VADER Score'] = my_vader_score_compound\nsentences['my VADER score - positive'] = my_vader_score_positive\nsentences['my VADER score - negative'] = my_vader_score_negative\nsentences['my VADER score - neutral'] = my_vader_score_neutral",
      "execution_count": 44,
      "outputs": []
    },
    {
      "metadata": {},
      "cell_type": "markdown",
      "source": "To see the changes, we run the head() function again:"
    },
    {
      "metadata": {
        "trusted": true
      },
      "cell_type": "code",
      "source": "sentences.head(10)",
      "execution_count": 45,
      "outputs": [
        {
          "output_type": "execute_result",
          "execution_count": 45,
          "data": {
            "text/html": "<div>\n<style scoped>\n    .dataframe tbody tr th:only-of-type {\n        vertical-align: middle;\n    }\n\n    .dataframe tbody tr th {\n        vertical-align: top;\n    }\n\n    .dataframe thead th {\n        text-align: right;\n    }\n</style>\n<table border=\"1\" class=\"dataframe\">\n  <thead>\n    <tr style=\"text-align: right;\">\n      <th></th>\n      <th>id</th>\n      <th>text</th>\n      <th>my VADER Score</th>\n      <th>my VADER score - positive</th>\n      <th>my VADER score - negative</th>\n      <th>my VADER score - neutral</th>\n    </tr>\n  </thead>\n  <tbody>\n    <tr>\n      <th>0</th>\n      <td>1</td>\n      <td>I Hate my School!!!</td>\n      <td>-0.6784</td>\n      <td>0.000</td>\n      <td>0.696</td>\n      <td>0.304</td>\n    </tr>\n    <tr>\n      <th>1</th>\n      <td>2</td>\n      <td>@socialmediahandle I learned something new today</td>\n      <td>0.0000</td>\n      <td>0.000</td>\n      <td>0.000</td>\n      <td>1.000</td>\n    </tr>\n    <tr>\n      <th>2</th>\n      <td>3</td>\n      <td>I need to take a cool trip to Austraila!</td>\n      <td>0.3802</td>\n      <td>0.302</td>\n      <td>0.000</td>\n      <td>0.698</td>\n    </tr>\n    <tr>\n      <th>3</th>\n      <td>4</td>\n      <td>The restaurant service was amazing!</td>\n      <td>0.6239</td>\n      <td>0.506</td>\n      <td>0.000</td>\n      <td>0.494</td>\n    </tr>\n    <tr>\n      <th>4</th>\n      <td>5</td>\n      <td>I will never go back there again!</td>\n      <td>0.0000</td>\n      <td>0.000</td>\n      <td>0.000</td>\n      <td>1.000</td>\n    </tr>\n    <tr>\n      <th>5</th>\n      <td>6</td>\n      <td>You learn something new every day - this place...</td>\n      <td>0.6249</td>\n      <td>0.313</td>\n      <td>0.000</td>\n      <td>0.687</td>\n    </tr>\n    <tr>\n      <th>6</th>\n      <td>7</td>\n      <td>First Impressions - this is good but then it w...</td>\n      <td>0.3400</td>\n      <td>0.254</td>\n      <td>0.000</td>\n      <td>0.746</td>\n    </tr>\n    <tr>\n      <th>7</th>\n      <td>8</td>\n      <td>A bit pricey</td>\n      <td>0.0000</td>\n      <td>0.000</td>\n      <td>0.000</td>\n      <td>1.000</td>\n    </tr>\n    <tr>\n      <th>8</th>\n      <td>9</td>\n      <td>Love them</td>\n      <td>0.6369</td>\n      <td>0.808</td>\n      <td>0.000</td>\n      <td>0.192</td>\n    </tr>\n    <tr>\n      <th>9</th>\n      <td>10</td>\n      <td>meh</td>\n      <td>-0.0772</td>\n      <td>0.000</td>\n      <td>1.000</td>\n      <td>0.000</td>\n    </tr>\n  </tbody>\n</table>\n</div>",
            "text/plain": "   id                                               text  my VADER Score  \\\n0   1                                I Hate my School!!!         -0.6784   \n1   2   @socialmediahandle I learned something new today          0.0000   \n2   3           I need to take a cool trip to Austraila!          0.3802   \n3   4                The restaurant service was amazing!          0.6239   \n4   5                  I will never go back there again!          0.0000   \n5   6  You learn something new every day - this place...          0.6249   \n6   7  First Impressions - this is good but then it w...          0.3400   \n7   8                                       A bit pricey          0.0000   \n8   9                                          Love them          0.6369   \n9  10                                                meh         -0.0772   \n\n   my VADER score - positive  my VADER score - negative  \\\n0                      0.000                      0.696   \n1                      0.000                      0.000   \n2                      0.302                      0.000   \n3                      0.506                      0.000   \n4                      0.000                      0.000   \n5                      0.313                      0.000   \n6                      0.254                      0.000   \n7                      0.000                      0.000   \n8                      0.808                      0.000   \n9                      0.000                      1.000   \n\n   my VADER score - neutral  \n0                     0.304  \n1                     1.000  \n2                     0.698  \n3                     0.494  \n4                     1.000  \n5                     0.687  \n6                     0.746  \n7                     1.000  \n8                     0.192  \n9                     0.000  "
          },
          "metadata": {}
        }
      ]
    },
    {
      "metadata": {},
      "cell_type": "markdown",
      "source": "While this information is useful, it still requires the user to scan through the results row by row. Let’s make it easier to analyze and summarize the results by creating a new column which categorizes the compound score results. No output will be displayed after you run the cell:"
    },
    {
      "metadata": {
        "trusted": true
      },
      "cell_type": "code",
      "source": "i=0 #reset counter for loop\n\n#initialize variables\nmy_prediction = [ ] \n\nwhile (i<len(sentences)):\n    if ((sentences.iloc[i]['my VADER Score'] >= 0.3)):\n        my_prediction.append('positive')\n    elif ((sentences.iloc[i]['my VADER Score'] >= 0) & (sentences.iloc[i]['my VADER Score'] < 0.3)):\n        my_prediction.append('neutral')\n    elif ((sentences.iloc[i]['my VADER Score'] < 0)):\n        my_prediction.append('negative')     \n    \n    i = i+1",
      "execution_count": 47,
      "outputs": []
    },
    {
      "metadata": {},
      "cell_type": "markdown",
      "source": "Similar to before, we will take the results and add a new column to our DataFrame called my prediction sentiment. No output will be displayed after you run the cell:"
    },
    {
      "metadata": {
        "trusted": true
      },
      "cell_type": "code",
      "source": "sentences['my predicted sentiment'] = my_prediction",
      "execution_count": 48,
      "outputs": []
    },
    {
      "metadata": {},
      "cell_type": "markdown",
      "source": "To see the changes, we run the head() function again:"
    },
    {
      "metadata": {
        "trusted": true
      },
      "cell_type": "code",
      "source": "sentences.head(10)",
      "execution_count": 49,
      "outputs": [
        {
          "output_type": "execute_result",
          "execution_count": 49,
          "data": {
            "text/html": "<div>\n<style scoped>\n    .dataframe tbody tr th:only-of-type {\n        vertical-align: middle;\n    }\n\n    .dataframe tbody tr th {\n        vertical-align: top;\n    }\n\n    .dataframe thead th {\n        text-align: right;\n    }\n</style>\n<table border=\"1\" class=\"dataframe\">\n  <thead>\n    <tr style=\"text-align: right;\">\n      <th></th>\n      <th>id</th>\n      <th>text</th>\n      <th>my VADER Score</th>\n      <th>my VADER score - positive</th>\n      <th>my VADER score - negative</th>\n      <th>my VADER score - neutral</th>\n      <th>my predicted sentiment</th>\n    </tr>\n  </thead>\n  <tbody>\n    <tr>\n      <th>0</th>\n      <td>1</td>\n      <td>I Hate my School!!!</td>\n      <td>-0.6784</td>\n      <td>0.000</td>\n      <td>0.696</td>\n      <td>0.304</td>\n      <td>negative</td>\n    </tr>\n    <tr>\n      <th>1</th>\n      <td>2</td>\n      <td>@socialmediahandle I learned something new today</td>\n      <td>0.0000</td>\n      <td>0.000</td>\n      <td>0.000</td>\n      <td>1.000</td>\n      <td>neutral</td>\n    </tr>\n    <tr>\n      <th>2</th>\n      <td>3</td>\n      <td>I need to take a cool trip to Austraila!</td>\n      <td>0.3802</td>\n      <td>0.302</td>\n      <td>0.000</td>\n      <td>0.698</td>\n      <td>positive</td>\n    </tr>\n    <tr>\n      <th>3</th>\n      <td>4</td>\n      <td>The restaurant service was amazing!</td>\n      <td>0.6239</td>\n      <td>0.506</td>\n      <td>0.000</td>\n      <td>0.494</td>\n      <td>positive</td>\n    </tr>\n    <tr>\n      <th>4</th>\n      <td>5</td>\n      <td>I will never go back there again!</td>\n      <td>0.0000</td>\n      <td>0.000</td>\n      <td>0.000</td>\n      <td>1.000</td>\n      <td>neutral</td>\n    </tr>\n    <tr>\n      <th>5</th>\n      <td>6</td>\n      <td>You learn something new every day - this place...</td>\n      <td>0.6249</td>\n      <td>0.313</td>\n      <td>0.000</td>\n      <td>0.687</td>\n      <td>positive</td>\n    </tr>\n    <tr>\n      <th>6</th>\n      <td>7</td>\n      <td>First Impressions - this is good but then it w...</td>\n      <td>0.3400</td>\n      <td>0.254</td>\n      <td>0.000</td>\n      <td>0.746</td>\n      <td>positive</td>\n    </tr>\n    <tr>\n      <th>7</th>\n      <td>8</td>\n      <td>A bit pricey</td>\n      <td>0.0000</td>\n      <td>0.000</td>\n      <td>0.000</td>\n      <td>1.000</td>\n      <td>neutral</td>\n    </tr>\n    <tr>\n      <th>8</th>\n      <td>9</td>\n      <td>Love them</td>\n      <td>0.6369</td>\n      <td>0.808</td>\n      <td>0.000</td>\n      <td>0.192</td>\n      <td>positive</td>\n    </tr>\n    <tr>\n      <th>9</th>\n      <td>10</td>\n      <td>meh</td>\n      <td>-0.0772</td>\n      <td>0.000</td>\n      <td>1.000</td>\n      <td>0.000</td>\n      <td>negative</td>\n    </tr>\n  </tbody>\n</table>\n</div>",
            "text/plain": "   id                                               text  my VADER Score  \\\n0   1                                I Hate my School!!!         -0.6784   \n1   2   @socialmediahandle I learned something new today          0.0000   \n2   3           I need to take a cool trip to Austraila!          0.3802   \n3   4                The restaurant service was amazing!          0.6239   \n4   5                  I will never go back there again!          0.0000   \n5   6  You learn something new every day - this place...          0.6249   \n6   7  First Impressions - this is good but then it w...          0.3400   \n7   8                                       A bit pricey          0.0000   \n8   9                                          Love them          0.6369   \n9  10                                                meh         -0.0772   \n\n   my VADER score - positive  my VADER score - negative  \\\n0                      0.000                      0.696   \n1                      0.000                      0.000   \n2                      0.302                      0.000   \n3                      0.506                      0.000   \n4                      0.000                      0.000   \n5                      0.313                      0.000   \n6                      0.254                      0.000   \n7                      0.000                      0.000   \n8                      0.808                      0.000   \n9                      0.000                      1.000   \n\n   my VADER score - neutral my predicted sentiment  \n0                     0.304               negative  \n1                     1.000                neutral  \n2                     0.698               positive  \n3                     0.494               positive  \n4                     1.000                neutral  \n5                     0.687               positive  \n6                     0.746               positive  \n7                     1.000                neutral  \n8                     0.192               positive  \n9                     0.000               negative  "
          },
          "metadata": {}
        }
      ]
    },
    {
      "metadata": {},
      "cell_type": "markdown",
      "source": "To make it easier to interpret the results, lets create a data visualization against the DataFrame by summarizing the results using an aggregate group by. We use the plot() function from the matplotlib library to display a horizontal bar chart:"
    },
    {
      "metadata": {
        "trusted": true
      },
      "cell_type": "code",
      "source": "sentences.groupby('my predicted sentiment').size().plot(kind='barh');",
      "execution_count": 50,
      "outputs": [
        {
          "output_type": "display_data",
          "data": {
            "image/png": "[encoded data removed]",
            "text/plain": "<Figure size 432x288 with 1 Axes>"
          },
          "metadata": {
            "needs_background": "light"
          }
        }
      ]
    },
    {
      "metadata": {
        "trusted": true
      },
      "cell_type": "code",
      "source": "",
      "execution_count": null,
      "outputs": []
    }
  ],
  "metadata": {
    "kernelspec": {
      "name": "python36",
      "display_name": "Python 3.6",
      "language": "python"
    },
    "language_info": {
      "mimetype": "text/x-python",
      "nbconvert_exporter": "python",
      "name": "python",
      "pygments_lexer": "ipython3",
      "version": "3.6.6",
      "file_extension": ".py",
      "codemirror_mode": {
        "version": 3,
        "name": "ipython"
      }
    }
  },
  "nbformat": 4,
  "nbformat_minor": 2
}