{
 "cells": [
  {
   "cell_type": "code",
   "execution_count": 9,
   "metadata": {
    "collapsed": true
   },
   "outputs": [],
   "source": [
    "import numpy as np"
   ]
  },
  {
   "cell_type": "code",
   "execution_count": 10,
   "metadata": {
    "collapsed": true
   },
   "outputs": [],
   "source": [
    "temp_array = []"
   ]
  },
  {
   "cell_type": "code",
   "execution_count": 11,
   "metadata": {
    "collapsed": false
   },
   "outputs": [],
   "source": [
    "with open('AAPL_stock_price_example.csv', 'r') as input_file:\n",
    "    #print(input_file)\n",
    "        \n",
    "    all_lines_from_input_file = input_file.readlines()\n",
    "    #print(all_lines_from_input_file) #used to validate data output for testing = prints all records from file\n",
    "    \n",
    "    for each_individual_line in all_lines_from_input_file:\n",
    "        #print(each_individual_line) #used to validate data output for testing = prints each line as one row\n",
    "\n",
    "        for value_from_line in each_individual_line.rsplit(',')[1:]:\n",
    "            #print(value_from_line) #used to validate data output for testing = prints stock price value but has extra whitespace\n",
    "            \n",
    "            clean_value_from_line = value_from_line.replace(\"\\n\", \"\") #removes the whitespaces from each value\n",
    "            #print(clean_value_from_line) #used to validate data output for testing = prints cleaned stock price value\n",
    "             \n",
    "            temp_array.append(clean_value_from_line) #assigns each value to the new array by element"
   ]
  },
  {
   "cell_type": "code",
   "execution_count": 12,
   "metadata": {
    "collapsed": false
   },
   "outputs": [
    {
     "name": "stdout",
     "output_type": "stream",
     "text": [
      "['Close', '157.919998', '142.190002', '148.259995', '147.929993']\n"
     ]
    }
   ],
   "source": [
    "print(temp_array[:5])"
   ]
  },
  {
   "cell_type": "code",
   "execution_count": 13,
   "metadata": {
    "collapsed": false
   },
   "outputs": [],
   "source": [
    "temp_array = np.delete(temp_array,0)"
   ]
  },
  {
   "cell_type": "code",
   "execution_count": 14,
   "metadata": {
    "collapsed": false
   },
   "outputs": [
    {
     "data": {
      "text/plain": [
       "229"
      ]
     },
     "execution_count": 14,
     "metadata": {},
     "output_type": "execute_result"
    }
   ],
   "source": [
    "temp_array.size"
   ]
  },
  {
   "cell_type": "code",
   "execution_count": 15,
   "metadata": {
    "collapsed": true
   },
   "outputs": [],
   "source": [
    "input_stock_price_array = temp_array.astype(float)"
   ]
  },
  {
   "cell_type": "code",
   "execution_count": 16,
   "metadata": {
    "collapsed": false
   },
   "outputs": [
    {
     "name": "stdout",
     "output_type": "stream",
     "text": [
      "[ 157.919998  142.190002  148.259995  147.929993  150.75    ]\n"
     ]
    }
   ],
   "source": [
    "print(input_stock_price_array[:5])"
   ]
  },
  {
   "cell_type": "code",
   "execution_count": 17,
   "metadata": {
    "collapsed": true
   },
   "outputs": [],
   "source": [
    "sorted_stock_price_array = np.sort(input_stock_price_array)[::-1] "
   ]
  },
  {
   "cell_type": "code",
   "execution_count": 23,
   "metadata": {
    "collapsed": false
   },
   "outputs": [
    {
     "name": "stdout",
     "output_type": "stream",
     "text": [
      "Closing stock price in order of day traded:     [ 157.919998  142.190002  148.259995  147.929993  150.75    ]\n",
      "Closing stock price in order from high to low:  [ 267.100006  266.369995  266.290009  265.76001   264.470001]\n"
     ]
    }
   ],
   "source": [
    "print('Closing stock price in order of day traded:    ', input_stock_price_array[:5])\n",
    "print('Closing stock price in order from high to low: ', sorted_stock_price_array[:5]) "
   ]
  },
  {
   "cell_type": "code",
   "execution_count": 24,
   "metadata": {
    "collapsed": false
   },
   "outputs": [
    {
     "name": "stdout",
     "output_type": "stream",
     "text": [
      "Highest closing stock price:  267.100006\n"
     ]
    }
   ],
   "source": [
    "print('Highest closing stock price: ', sorted_stock_price_array[0])"
   ]
  },
  {
   "cell_type": "code",
   "execution_count": null,
   "metadata": {
    "collapsed": true
   },
   "outputs": [],
   "source": []
  }
 ],
 "metadata": {
  "kernelspec": {
   "display_name": "Python 3",
   "language": "python",
   "name": "python3"
  },
  "language_info": {
   "codemirror_mode": {
    "name": "ipython",
    "version": 3
   },
   "file_extension": ".py",
   "mimetype": "text/x-python",
   "name": "python",
   "nbconvert_exporter": "python",
   "pygments_lexer": "ipython3",
   "version": "3.5.1"
  }
 },
 "nbformat": 4,
 "nbformat_minor": 0
}
