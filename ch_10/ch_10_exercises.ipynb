{
  "cells": [
    {
      "metadata": {
        "trusted": true
      },
      "cell_type": "code",
      "source": "import nltk",
      "execution_count": 1,
      "outputs": []
    },
    {
      "metadata": {
        "trusted": true
      },
      "cell_type": "code",
      "source": "nltk.download('brown')",
      "execution_count": 2,
      "outputs": [
        {
          "output_type": "stream",
          "text": "[nltk_data] Downloading package brown to /home/nbuser/nltk_data...\n[nltk_data]   Package brown is already up-to-date!\n",
          "name": "stdout"
        },
        {
          "output_type": "execute_result",
          "execution_count": 2,
          "data": {
            "text/plain": "True"
          },
          "metadata": {}
        }
      ]
    },
    {
      "metadata": {
        "trusted": true
      },
      "cell_type": "code",
      "source": "from nltk.corpus import brown",
      "execution_count": 3,
      "outputs": []
    },
    {
      "metadata": {
        "trusted": true
      },
      "cell_type": "code",
      "source": "brown.words()",
      "execution_count": 4,
      "outputs": [
        {
          "output_type": "execute_result",
          "execution_count": 4,
          "data": {
            "text/plain": "['The', 'Fulton', 'County', 'Grand', 'Jury', 'said', ...]"
          },
          "metadata": {}
        }
      ]
    },
    {
      "metadata": {
        "trusted": true
      },
      "cell_type": "code",
      "source": "count_of_words = len(brown.words())",
      "execution_count": 5,
      "outputs": []
    },
    {
      "metadata": {
        "trusted": true
      },
      "cell_type": "code",
      "source": "print('Count of all the words found the Brown Corpus =',format(count_of_words,',d'))",
      "execution_count": 6,
      "outputs": [
        {
          "output_type": "stream",
          "text": "Count of all the words found the Brown Corpus = 1,161,192\n",
          "name": "stdout"
        }
      ]
    },
    {
      "metadata": {
        "trusted": true
      },
      "cell_type": "code",
      "source": "nltk.download('punkt')",
      "execution_count": 7,
      "outputs": [
        {
          "output_type": "stream",
          "text": "[nltk_data] Downloading package punkt to /home/nbuser/nltk_data...\n[nltk_data]   Package punkt is already up-to-date!\n",
          "name": "stdout"
        },
        {
          "output_type": "execute_result",
          "execution_count": 7,
          "data": {
            "text/plain": "True"
          },
          "metadata": {}
        }
      ]
    },
    {
      "metadata": {
        "trusted": true
      },
      "cell_type": "code",
      "source": "input_sentence = \"Seth and Becca love to run down to the playground when the weather is nice.\"",
      "execution_count": 8,
      "outputs": []
    },
    {
      "metadata": {
        "trusted": true
      },
      "cell_type": "code",
      "source": "nltk.word_tokenize(input_sentence)",
      "execution_count": 9,
      "outputs": [
        {
          "output_type": "execute_result",
          "execution_count": 9,
          "data": {
            "text/plain": "['Seth',\n 'and',\n 'Becca',\n 'love',\n 'to',\n 'run',\n 'down',\n 'to',\n 'the',\n 'playground',\n 'when',\n 'the',\n 'weather',\n 'is',\n 'nice',\n '.']"
          },
          "metadata": {}
        }
      ]
    },
    {
      "metadata": {
        "trusted": true
      },
      "cell_type": "code",
      "source": "from nltk.tokenize import sent_tokenize",
      "execution_count": 10,
      "outputs": []
    },
    {
      "metadata": {
        "trusted": true
      },
      "cell_type": "code",
      "source": "input_data = \"Seth and Becca love the playground.  When it sunny, they head down there to play.\"",
      "execution_count": 11,
      "outputs": []
    },
    {
      "metadata": {
        "trusted": true
      },
      "cell_type": "code",
      "source": "print(sent_tokenize(input_data))",
      "execution_count": 12,
      "outputs": [
        {
          "output_type": "stream",
          "text": "['Seth and Becca love the playground.', 'When it sunny, they head down there to play.']\n",
          "name": "stdout"
        }
      ]
    },
    {
      "metadata": {
        "trusted": true
      },
      "cell_type": "code",
      "source": "from nltk.tokenize import word_tokenize\ntokenized_word=nltk.word_tokenize(input_sentence)\nprint(tokenized_word)",
      "execution_count": 13,
      "outputs": [
        {
          "output_type": "stream",
          "text": "['Seth', 'and', 'Becca', 'love', 'to', 'run', 'down', 'to', 'the', 'playground', 'when', 'the', 'weather', 'is', 'nice', '.']\n",
          "name": "stdout"
        }
      ]
    },
    {
      "metadata": {
        "trusted": true
      },
      "cell_type": "code",
      "source": "from nltk.probability import FreqDist",
      "execution_count": 14,
      "outputs": []
    },
    {
      "metadata": {
        "trusted": true
      },
      "cell_type": "code",
      "source": "fdist = FreqDist(tokenized_word)\nprint(fdist)",
      "execution_count": 15,
      "outputs": [
        {
          "output_type": "stream",
          "text": "<FreqDist with 14 samples and 16 outcomes>\n",
          "name": "stdout"
        }
      ]
    },
    {
      "metadata": {
        "trusted": true
      },
      "cell_type": "code",
      "source": "fdist.most_common(2)",
      "execution_count": 16,
      "outputs": [
        {
          "output_type": "execute_result",
          "execution_count": 16,
          "data": {
            "text/plain": "[('the', 2), ('to', 2)]"
          },
          "metadata": {}
        }
      ]
    },
    {
      "metadata": {
        "trusted": true
      },
      "cell_type": "code",
      "source": "# Frequency Distribution Plot\nimport matplotlib.pyplot as plt\nfdist.plot(30,cumulative=False)\nplt.show();",
      "execution_count": 17,
      "outputs": [
        {
          "output_type": "display_data",
          "data": {
            "text/plain": "<matplotlib.figure.Figure at 0x7f2016541518>"
          },
          "metadata": {}
        }
      ]
    },
    {
      "metadata": {
        "trusted": true
      },
      "cell_type": "code",
      "source": "brown.words()",
      "execution_count": 18,
      "outputs": [
        {
          "output_type": "execute_result",
          "execution_count": 18,
          "data": {
            "text/plain": "['The', 'Fulton', 'County', 'Grand', 'Jury', 'said', ...]"
          },
          "metadata": {}
        }
      ]
    },
    {
      "metadata": {
        "trusted": true
      },
      "cell_type": "code",
      "source": "input_data = FreqDist(brown.words())\nprint(input_data)",
      "execution_count": 19,
      "outputs": [
        {
          "output_type": "stream",
          "text": "<FreqDist with 56057 samples and 1161192 outcomes>\n",
          "name": "stdout"
        }
      ]
    },
    {
      "metadata": {
        "trusted": true
      },
      "cell_type": "code",
      "source": "input_data.most_common(10)",
      "execution_count": 20,
      "outputs": [
        {
          "output_type": "execute_result",
          "execution_count": 20,
          "data": {
            "text/plain": "[('the', 62713),\n (',', 58334),\n ('.', 49346),\n ('of', 36080),\n ('and', 27915),\n ('to', 25732),\n ('a', 21881),\n ('in', 19536),\n ('that', 10237),\n ('is', 10011)]"
          },
          "metadata": {}
        }
      ]
    },
    {
      "metadata": {
        "trusted": true
      },
      "cell_type": "code",
      "source": "import matplotlib.pyplot as plt\ninput_data.plot(10)\nplt.show();",
      "execution_count": 21,
      "outputs": [
        {
          "output_type": "display_data",
          "data": {
            "image/png": "[encoded data removed]",
            "text/plain": "<matplotlib.figure.Figure at 0x7f20149d1e10>"
          },
          "metadata": {}
        }
      ]
    },
    {
      "metadata": {
        "trusted": true
      },
      "cell_type": "code",
      "source": "from nltk.stem import PorterStemmer",
      "execution_count": 48,
      "outputs": []
    },
    {
      "metadata": {
        "trusted": true
      },
      "cell_type": "code",
      "source": "my_word_stemmer = PorterStemmer()",
      "execution_count": 58,
      "outputs": []
    },
    {
      "metadata": {
        "trusted": true
      },
      "cell_type": "code",
      "source": "my_word_stemmer.stem('fishing')",
      "execution_count": 72,
      "outputs": [
        {
          "output_type": "execute_result",
          "execution_count": 72,
          "data": {
            "text/plain": "'fish'"
          },
          "metadata": {}
        }
      ]
    },
    {
      "metadata": {
        "trusted": true
      },
      "cell_type": "code",
      "source": "#my_word_stemmer.stem('sleepy')",
      "execution_count": 73,
      "outputs": []
    },
    {
      "metadata": {
        "trusted": true
      },
      "cell_type": "code",
      "source": "nltk.download('wordnet')",
      "execution_count": 105,
      "outputs": [
        {
          "output_type": "stream",
          "text": "[nltk_data] Downloading package wordnet to /home/nbuser/nltk_data...\n[nltk_data]   Package wordnet is already up-to-date!\n",
          "name": "stdout"
        },
        {
          "output_type": "execute_result",
          "execution_count": 105,
          "data": {
            "text/plain": "True"
          },
          "metadata": {}
        }
      ]
    },
    {
      "metadata": {
        "trusted": true
      },
      "cell_type": "code",
      "source": "from nltk.stem import WordNetLemmatizer",
      "execution_count": 75,
      "outputs": []
    },
    {
      "metadata": {
        "trusted": true
      },
      "cell_type": "code",
      "source": "my_word_lemmatizer = WordNetLemmatizer()",
      "execution_count": 76,
      "outputs": []
    },
    {
      "metadata": {
        "trusted": true
      },
      "cell_type": "code",
      "source": "my_word_lemmatizer.lemmatize('fishing')",
      "execution_count": 78,
      "outputs": [
        {
          "output_type": "execute_result",
          "execution_count": 78,
          "data": {
            "text/plain": "'fishing'"
          },
          "metadata": {}
        }
      ]
    },
    {
      "metadata": {
        "trusted": true
      },
      "cell_type": "code",
      "source": "#li = input_data.most_common(10)\n#li = brown.words()\nli = brown.words()[:10]",
      "execution_count": 79,
      "outputs": []
    },
    {
      "metadata": {
        "trusted": true
      },
      "cell_type": "code",
      "source": " #print(x, len(x))\nfor x in li :\n    #print(x, x.lower())\n    print('word =', x, ': stem =', my_word_stemmer.stem(x), ': lemma =', my_word_lemmatizer.lemmatize(x))",
      "execution_count": 104,
      "outputs": [
        {
          "output_type": "stream",
          "text": "word = The : stem = The : lemma = The\nword = Fulton : stem = Fulton : lemma = Fulton\nword = County : stem = Counti : lemma = County\nword = Grand : stem = Grand : lemma = Grand\nword = Jury : stem = Juri : lemma = Jury\nword = said : stem = said : lemma = said\nword = Friday : stem = Friday : lemma = Friday\nword = an : stem = an : lemma = an\nword = investigation : stem = investig : lemma = investigation\nword = of : stem = of : lemma = of\n",
          "name": "stdout"
        }
      ]
    },
    {
      "metadata": {
        "trusted": true
      },
      "cell_type": "code",
      "source": "",
      "execution_count": null,
      "outputs": []
    }
  ],
  "metadata": {
    "kernelspec": {
      "name": "python3",
      "display_name": "Python 3",
      "language": "python"
    },
    "language_info": {
      "mimetype": "text/x-python",
      "nbconvert_exporter": "python",
      "name": "python",
      "pygments_lexer": "ipython3",
      "version": "3.5.4",
      "file_extension": ".py",
      "codemirror_mode": {
        "version": 3,
        "name": "ipython"
      }
    }
  },
  "nbformat": 4,
  "nbformat_minor": 2
}