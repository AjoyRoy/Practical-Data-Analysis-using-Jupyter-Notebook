{
  "cells": [
    {
      "metadata": {},
      "cell_type": "markdown",
      "source": "## Capstone Exercise"
    },
    {
      "metadata": {},
      "cell_type": "markdown",
      "source": "We are going to import the libraries required to work with and analyze the results by including the following commands."
    },
    {
      "metadata": {
        "trusted": true
      },
      "cell_type": "code",
      "source": "import pandas as pd\nimport numpy as np\n%matplotlib inline",
      "execution_count": 1,
      "outputs": [
        {
          "output_type": "stream",
          "text": "/home/nbuser/anaconda3_420/lib/python3.5/site-packages/matplotlib/font_manager.py:281: UserWarning: Matplotlib is building the font cache using fc-list. This may take a moment.\n  'Matplotlib is building the font cache using fc-list. '\n",
          "name": "stderr"
        }
      ]
    },
    {
      "metadata": {},
      "cell_type": "markdown",
      "source": "We will read in the first csv file using the pandas library and assign the result to a variable named “df_greenbonds”."
    },
    {
      "metadata": {
        "trusted": true
      },
      "cell_type": "code",
      "source": "df_greenbonds = pd.read_csv('Green_Bonds_since_2008.csv')",
      "execution_count": 2,
      "outputs": []
    },
    {
      "metadata": {},
      "cell_type": "markdown",
      "source": "To validate all the records have loaded successfully, we run a shape() function against the DataFrame."
    },
    {
      "metadata": {
        "trusted": true
      },
      "cell_type": "code",
      "source": "df_greenbonds.shape",
      "execution_count": 3,
      "outputs": [
        {
          "output_type": "execute_result",
          "execution_count": 3,
          "data": {
            "text/plain": "(115, 10)"
          },
          "metadata": {}
        }
      ]
    },
    {
      "metadata": {},
      "cell_type": "markdown",
      "source": "To preview the DataFrame, we run a head() function"
    },
    {
      "metadata": {
        "trusted": true
      },
      "cell_type": "code",
      "source": "df_greenbonds.head()",
      "execution_count": 4,
      "outputs": [
        {
          "output_type": "execute_result",
          "execution_count": 4,
          "data": {
            "text/html": "<div>\n<table border=\"1\" class=\"dataframe\">\n  <thead>\n    <tr style=\"text-align: right;\">\n      <th></th>\n      <th>Type</th>\n      <th>Maturity</th>\n      <th>Currency</th>\n      <th>Volume</th>\n      <th>Coupon</th>\n      <th>Settlement Date</th>\n      <th>Maturity Date</th>\n      <th>USD Equivalent</th>\n      <th>ISIN</th>\n      <th>Final Terms</th>\n    </tr>\n  </thead>\n  <tbody>\n    <tr>\n      <th>0</th>\n      <td>Green</td>\n      <td>5</td>\n      <td>INR</td>\n      <td>80000000</td>\n      <td>0.04500</td>\n      <td>04/05/2018 12:00:00 AM</td>\n      <td>03/24/2023 12:00:00 AM</td>\n      <td>1230000</td>\n      <td>XS1801822419</td>\n      <td>NaN</td>\n    </tr>\n    <tr>\n      <th>1</th>\n      <td>Green</td>\n      <td>5</td>\n      <td>INR</td>\n      <td>80000000</td>\n      <td>0.04050</td>\n      <td>11/28/2017 12:00:00 AM</td>\n      <td>11/28/2022 12:00:00 AM</td>\n      <td>1230000</td>\n      <td>XS1724511958</td>\n      <td>NaN</td>\n    </tr>\n    <tr>\n      <th>2</th>\n      <td>Green</td>\n      <td>5</td>\n      <td>INR</td>\n      <td>1608700000</td>\n      <td>0.05000</td>\n      <td>09/27/2017 12:00:00 AM</td>\n      <td>NaN</td>\n      <td>25100000</td>\n      <td>XS1687324068</td>\n      <td>http://pubdocs.worldbank.org/en/20621154455317...</td>\n    </tr>\n    <tr>\n      <th>3</th>\n      <td>Green</td>\n      <td>3</td>\n      <td>MYR</td>\n      <td>65000000</td>\n      <td>0.02950</td>\n      <td>03/13/2017 12:00:00 AM</td>\n      <td>03/13/2020 12:00:00 AM</td>\n      <td>14620000</td>\n      <td>XS1576723552</td>\n      <td>http://pubdocs.worldbank.org/en/30221154455317...</td>\n    </tr>\n    <tr>\n      <th>4</th>\n      <td>Green</td>\n      <td>3</td>\n      <td>USD</td>\n      <td>100000000</td>\n      <td>0.01181</td>\n      <td>11/14/2016 12:00:00 AM</td>\n      <td>12/15/2019 12:00:00 AM</td>\n      <td>100000000</td>\n      <td>XS1517268105</td>\n      <td>NaN</td>\n    </tr>\n  </tbody>\n</table>\n</div>",
            "text/plain": "    Type  Maturity Currency      Volume   Coupon         Settlement Date  \\\n0  Green         5      INR    80000000  0.04500  04/05/2018 12:00:00 AM   \n1  Green         5      INR    80000000  0.04050  11/28/2017 12:00:00 AM   \n2  Green         5      INR  1608700000  0.05000  09/27/2017 12:00:00 AM   \n3  Green         3      MYR    65000000  0.02950  03/13/2017 12:00:00 AM   \n4  Green         3      USD   100000000  0.01181  11/14/2016 12:00:00 AM   \n\n            Maturity Date  USD Equivalent          ISIN  \\\n0  03/24/2023 12:00:00 AM         1230000  XS1801822419   \n1  11/28/2022 12:00:00 AM         1230000  XS1724511958   \n2                     NaN        25100000  XS1687324068   \n3  03/13/2020 12:00:00 AM        14620000  XS1576723552   \n4  12/15/2019 12:00:00 AM       100000000  XS1517268105   \n\n                                         Final Terms  \n0                                                NaN  \n1                                                NaN  \n2  http://pubdocs.worldbank.org/en/20621154455317...  \n3  http://pubdocs.worldbank.org/en/30221154455317...  \n4                                                NaN  "
          },
          "metadata": {}
        }
      ]
    },
    {
      "metadata": {},
      "cell_type": "markdown",
      "source": "We will read in the second csv file using the pandas library and assign the result to a variable named “df_fx_rates”."
    },
    {
      "metadata": {
        "trusted": true
      },
      "cell_type": "code",
      "source": "df_fx_rates = pd.read_csv('ECB_FX_USD-quote.csv')",
      "execution_count": 5,
      "outputs": []
    },
    {
      "metadata": {},
      "cell_type": "markdown",
      "source": "To validate all the records have loaded successfully, we run a shape() function against the DataFrame."
    },
    {
      "metadata": {
        "trusted": true
      },
      "cell_type": "code",
      "source": "df_fx_rates.shape",
      "execution_count": 7,
      "outputs": [
        {
          "output_type": "execute_result",
          "execution_count": 7,
          "data": {
            "text/plain": "(5464, 34)"
          },
          "metadata": {}
        }
      ]
    },
    {
      "metadata": {},
      "cell_type": "markdown",
      "source": "To preview the DataFrame, we run a head() function"
    },
    {
      "metadata": {
        "trusted": true
      },
      "cell_type": "code",
      "source": "df_fx_rates.head()",
      "execution_count": 8,
      "outputs": [
        {
          "output_type": "execute_result",
          "execution_count": 8,
          "data": {
            "text/html": "<div>\n<table border=\"1\" class=\"dataframe\">\n  <thead>\n    <tr style=\"text-align: right;\">\n      <th></th>\n      <th>Date</th>\n      <th>EUR</th>\n      <th>JPY</th>\n      <th>BGN</th>\n      <th>CZK</th>\n      <th>DKK</th>\n      <th>GBP</th>\n      <th>HUF</th>\n      <th>PLN</th>\n      <th>RON</th>\n      <th>...</th>\n      <th>ILS</th>\n      <th>INR</th>\n      <th>KRW</th>\n      <th>MXN</th>\n      <th>MYR</th>\n      <th>NZD</th>\n      <th>PHP</th>\n      <th>SGD</th>\n      <th>THB</th>\n      <th>ZAR</th>\n    </tr>\n  </thead>\n  <tbody>\n    <tr>\n      <th>0</th>\n      <td>#date</td>\n      <td>#value+eur</td>\n      <td>#value+jpy</td>\n      <td>#value+bgn</td>\n      <td>#value+czk</td>\n      <td>#value+dkk</td>\n      <td>#value+gbp</td>\n      <td>#value+huf</td>\n      <td>#value+pln</td>\n      <td>#value+ron</td>\n      <td>...</td>\n      <td>#value+ils</td>\n      <td>#value+inr</td>\n      <td>#value+krw</td>\n      <td>#value+mxn</td>\n      <td>#value+myr</td>\n      <td>#value+nzd</td>\n      <td>#value+php</td>\n      <td>#value+sgd</td>\n      <td>#value+thb</td>\n      <td>#value+zar</td>\n    </tr>\n    <tr>\n      <th>1</th>\n      <td>2020-05-07</td>\n      <td>1.0783</td>\n      <td>0.009383865633974415</td>\n      <td>0.5513344922793741</td>\n      <td>0.03970469106708888</td>\n      <td>0.14453454862274648</td>\n      <td>1.2326527812707195</td>\n      <td>0.0030865010304556902</td>\n      <td>0.23716101788110056</td>\n      <td>0.2235513631180678</td>\n      <td>...</td>\n      <td>0.28465457617275153</td>\n      <td>0.013187229801207066</td>\n      <td>0.0008167825599539457</td>\n      <td>0.04136536786904867</td>\n      <td>0.23124101992236926</td>\n      <td>0.6051066217732884</td>\n      <td>0.01978641026111529</td>\n      <td>0.7046330784813436</td>\n      <td>0.03083588321084389</td>\n      <td>0.053727491056213814</td>\n    </tr>\n    <tr>\n      <th>2</th>\n      <td>2020-05-06</td>\n      <td>1.0807</td>\n      <td>0.009426079372001744</td>\n      <td>0.5525616116167297</td>\n      <td>0.04004520695149517</td>\n      <td>0.1448310059235037</td>\n      <td>1.2385820544852326</td>\n      <td>0.003091335564518436</td>\n      <td>0.23807111071947837</td>\n      <td>0.22405821740302284</td>\n      <td>...</td>\n      <td>0.2850398269768423</td>\n      <td>0.013182242335160983</td>\n      <td>0.0008165593737721764</td>\n      <td>0.04148799355049235</td>\n      <td>0.23134887504549057</td>\n      <td>0.6058075004204272</td>\n      <td>0.019785792749908458</td>\n      <td>0.7047277469840234</td>\n      <td>0.030873614444063537</td>\n      <td>0.0538725741888207</td>\n    </tr>\n    <tr>\n      <th>3</th>\n      <td>2020-05-05</td>\n      <td>1.0843</td>\n      <td>0.009370840895341804</td>\n      <td>0.5544022906227631</td>\n      <td>0.04019200830306175</td>\n      <td>0.14532514876963493</td>\n      <td>1.2454628991500114</td>\n      <td>0.0030956119564907072</td>\n      <td>0.23927531114838027</td>\n      <td>0.22467882304185663</td>\n      <td>...</td>\n      <td>0.2839001911345011</td>\n      <td>0.013200070608143067</td>\n      <td>0.0008184569862848258</td>\n      <td>0.041889124975854744</td>\n      <td>0.23231349359386383</td>\n      <td>0.6054159687325517</td>\n      <td>0.01976377522191641</td>\n      <td>0.7059704407839053</td>\n      <td>0.03086887206058191</td>\n      <td>0.05448250911977811</td>\n    </tr>\n    <tr>\n      <th>4</th>\n      <td>2020-05-04</td>\n      <td>1.0942</td>\n      <td>0.00936494351249572</td>\n      <td>0.5594641578893548</td>\n      <td>0.04034809543124747</td>\n      <td>0.14663236042990002</td>\n      <td>1.244851987531002</td>\n      <td>0.0030973476377841314</td>\n      <td>0.23959884382937727</td>\n      <td>0.22622394971882237</td>\n      <td>...</td>\n      <td>0.28361110391125166</td>\n      <td>0.013217050986265959</td>\n      <td>0.0008165671641791045</td>\n      <td>0.04069745817556963</td>\n      <td>0.2316944056240207</td>\n      <td>0.6050987114969861</td>\n      <td>0.01975839217031727</td>\n      <td>0.7061632784769281</td>\n      <td>0.030912224199790946</td>\n      <td>0.053657244855926725</td>\n    </tr>\n  </tbody>\n</table>\n<p>5 rows × 34 columns</p>\n</div>",
            "text/plain": "         Date         EUR                   JPY                 BGN  \\\n0       #date  #value+eur            #value+jpy          #value+bgn   \n1  2020-05-07      1.0783  0.009383865633974415  0.5513344922793741   \n2  2020-05-06      1.0807  0.009426079372001744  0.5525616116167297   \n3  2020-05-05      1.0843  0.009370840895341804  0.5544022906227631   \n4  2020-05-04      1.0942   0.00936494351249572  0.5594641578893548   \n\n                   CZK                  DKK                 GBP  \\\n0           #value+czk           #value+dkk          #value+gbp   \n1  0.03970469106708888  0.14453454862274648  1.2326527812707195   \n2  0.04004520695149517   0.1448310059235037  1.2385820544852326   \n3  0.04019200830306175  0.14532514876963493  1.2454628991500114   \n4  0.04034809543124747  0.14663236042990002   1.244851987531002   \n\n                     HUF                  PLN                  RON  \\\n0             #value+huf           #value+pln           #value+ron   \n1  0.0030865010304556902  0.23716101788110056   0.2235513631180678   \n2   0.003091335564518436  0.23807111071947837  0.22405821740302284   \n3  0.0030956119564907072  0.23927531114838027  0.22467882304185663   \n4  0.0030973476377841314  0.23959884382937727  0.22622394971882237   \n\n           ...                           ILS                   INR  \\\n0          ...                    #value+ils            #value+inr   \n1          ...           0.28465457617275153  0.013187229801207066   \n2          ...            0.2850398269768423  0.013182242335160983   \n3          ...            0.2839001911345011  0.013200070608143067   \n4          ...           0.28361110391125166  0.013217050986265959   \n\n                     KRW                   MXN                  MYR  \\\n0             #value+krw            #value+mxn           #value+myr   \n1  0.0008167825599539457   0.04136536786904867  0.23124101992236926   \n2  0.0008165593737721764   0.04148799355049235  0.23134887504549057   \n3  0.0008184569862848258  0.041889124975854744  0.23231349359386383   \n4  0.0008165671641791045   0.04069745817556963   0.2316944056240207   \n\n                  NZD                   PHP                 SGD  \\\n0          #value+nzd            #value+php          #value+sgd   \n1  0.6051066217732884   0.01978641026111529  0.7046330784813436   \n2  0.6058075004204272  0.019785792749908458  0.7047277469840234   \n3  0.6054159687325517   0.01976377522191641  0.7059704407839053   \n4  0.6050987114969861   0.01975839217031727  0.7061632784769281   \n\n                    THB                   ZAR  \n0            #value+thb            #value+zar  \n1   0.03083588321084389  0.053727491056213814  \n2  0.030873614444063537    0.0538725741888207  \n3   0.03086887206058191   0.05448250911977811  \n4  0.030912224199790946  0.053657244855926725  \n\n[5 rows x 34 columns]"
          },
          "metadata": {}
        }
      ]
    },
    {
      "metadata": {},
      "cell_type": "markdown",
      "source": "Since we know from the prior chapters that data is inherently messy and requires some cleanup, we will delete first row because it contains hdx hashtag metadata values not required in our analysis."
    },
    {
      "metadata": {
        "trusted": true
      },
      "cell_type": "code",
      "source": "df_fx_rates = df_fx_rates.drop(0)\ndf_fx_rates.head()",
      "execution_count": 9,
      "outputs": [
        {
          "output_type": "execute_result",
          "execution_count": 9,
          "data": {
            "text/html": "<div>\n<table border=\"1\" class=\"dataframe\">\n  <thead>\n    <tr style=\"text-align: right;\">\n      <th></th>\n      <th>Date</th>\n      <th>EUR</th>\n      <th>JPY</th>\n      <th>BGN</th>\n      <th>CZK</th>\n      <th>DKK</th>\n      <th>GBP</th>\n      <th>HUF</th>\n      <th>PLN</th>\n      <th>RON</th>\n      <th>...</th>\n      <th>ILS</th>\n      <th>INR</th>\n      <th>KRW</th>\n      <th>MXN</th>\n      <th>MYR</th>\n      <th>NZD</th>\n      <th>PHP</th>\n      <th>SGD</th>\n      <th>THB</th>\n      <th>ZAR</th>\n    </tr>\n  </thead>\n  <tbody>\n    <tr>\n      <th>1</th>\n      <td>2020-05-07</td>\n      <td>1.0783</td>\n      <td>0.009383865633974415</td>\n      <td>0.5513344922793741</td>\n      <td>0.03970469106708888</td>\n      <td>0.14453454862274648</td>\n      <td>1.2326527812707195</td>\n      <td>0.0030865010304556902</td>\n      <td>0.23716101788110056</td>\n      <td>0.2235513631180678</td>\n      <td>...</td>\n      <td>0.28465457617275153</td>\n      <td>0.013187229801207066</td>\n      <td>0.0008167825599539457</td>\n      <td>0.04136536786904867</td>\n      <td>0.23124101992236926</td>\n      <td>0.6051066217732884</td>\n      <td>0.01978641026111529</td>\n      <td>0.7046330784813436</td>\n      <td>0.03083588321084389</td>\n      <td>0.053727491056213814</td>\n    </tr>\n    <tr>\n      <th>2</th>\n      <td>2020-05-06</td>\n      <td>1.0807</td>\n      <td>0.009426079372001744</td>\n      <td>0.5525616116167297</td>\n      <td>0.04004520695149517</td>\n      <td>0.1448310059235037</td>\n      <td>1.2385820544852326</td>\n      <td>0.003091335564518436</td>\n      <td>0.23807111071947837</td>\n      <td>0.22405821740302284</td>\n      <td>...</td>\n      <td>0.2850398269768423</td>\n      <td>0.013182242335160983</td>\n      <td>0.0008165593737721764</td>\n      <td>0.04148799355049235</td>\n      <td>0.23134887504549057</td>\n      <td>0.6058075004204272</td>\n      <td>0.019785792749908458</td>\n      <td>0.7047277469840234</td>\n      <td>0.030873614444063537</td>\n      <td>0.0538725741888207</td>\n    </tr>\n    <tr>\n      <th>3</th>\n      <td>2020-05-05</td>\n      <td>1.0843</td>\n      <td>0.009370840895341804</td>\n      <td>0.5544022906227631</td>\n      <td>0.04019200830306175</td>\n      <td>0.14532514876963493</td>\n      <td>1.2454628991500114</td>\n      <td>0.0030956119564907072</td>\n      <td>0.23927531114838027</td>\n      <td>0.22467882304185663</td>\n      <td>...</td>\n      <td>0.2839001911345011</td>\n      <td>0.013200070608143067</td>\n      <td>0.0008184569862848258</td>\n      <td>0.041889124975854744</td>\n      <td>0.23231349359386383</td>\n      <td>0.6054159687325517</td>\n      <td>0.01976377522191641</td>\n      <td>0.7059704407839053</td>\n      <td>0.03086887206058191</td>\n      <td>0.05448250911977811</td>\n    </tr>\n    <tr>\n      <th>4</th>\n      <td>2020-05-04</td>\n      <td>1.0942</td>\n      <td>0.00936494351249572</td>\n      <td>0.5594641578893548</td>\n      <td>0.04034809543124747</td>\n      <td>0.14663236042990002</td>\n      <td>1.244851987531002</td>\n      <td>0.0030973476377841314</td>\n      <td>0.23959884382937727</td>\n      <td>0.22622394971882237</td>\n      <td>...</td>\n      <td>0.28361110391125166</td>\n      <td>0.013217050986265959</td>\n      <td>0.0008165671641791045</td>\n      <td>0.04069745817556963</td>\n      <td>0.2316944056240207</td>\n      <td>0.6050987114969861</td>\n      <td>0.01975839217031727</td>\n      <td>0.7061632784769281</td>\n      <td>0.030912224199790946</td>\n      <td>0.053657244855926725</td>\n    </tr>\n    <tr>\n      <th>5</th>\n      <td>2020-04-30</td>\n      <td>1.0876</td>\n      <td>0.009386381289376024</td>\n      <td>0.5560895797116269</td>\n      <td>0.04013728457024762</td>\n      <td>0.14582216024884692</td>\n      <td>1.2514815027904032</td>\n      <td>0.003083465638466772</td>\n      <td>0.2398976530792306</td>\n      <td>0.22456690962400114</td>\n      <td>...</td>\n      <td>0.28569177020672987</td>\n      <td>0.01332666754890284</td>\n      <td>0.0008282752895841108</td>\n      <td>0.0421627195651921</td>\n      <td>0.2325571449954027</td>\n      <td>0.614289748658571</td>\n      <td>0.019856861169940846</td>\n      <td>0.7097363612633777</td>\n      <td>0.030883689232167194</td>\n      <td>0.05532832753393158</td>\n    </tr>\n  </tbody>\n</table>\n<p>5 rows × 34 columns</p>\n</div>",
            "text/plain": "         Date     EUR                   JPY                 BGN  \\\n1  2020-05-07  1.0783  0.009383865633974415  0.5513344922793741   \n2  2020-05-06  1.0807  0.009426079372001744  0.5525616116167297   \n3  2020-05-05  1.0843  0.009370840895341804  0.5544022906227631   \n4  2020-05-04  1.0942   0.00936494351249572  0.5594641578893548   \n5  2020-04-30  1.0876  0.009386381289376024  0.5560895797116269   \n\n                   CZK                  DKK                 GBP  \\\n1  0.03970469106708888  0.14453454862274648  1.2326527812707195   \n2  0.04004520695149517   0.1448310059235037  1.2385820544852326   \n3  0.04019200830306175  0.14532514876963493  1.2454628991500114   \n4  0.04034809543124747  0.14663236042990002   1.244851987531002   \n5  0.04013728457024762  0.14582216024884692  1.2514815027904032   \n\n                     HUF                  PLN                  RON  \\\n1  0.0030865010304556902  0.23716101788110056   0.2235513631180678   \n2   0.003091335564518436  0.23807111071947837  0.22405821740302284   \n3  0.0030956119564907072  0.23927531114838027  0.22467882304185663   \n4  0.0030973476377841314  0.23959884382937727  0.22622394971882237   \n5   0.003083465638466772   0.2398976530792306  0.22456690962400114   \n\n           ...                           ILS                   INR  \\\n1          ...           0.28465457617275153  0.013187229801207066   \n2          ...            0.2850398269768423  0.013182242335160983   \n3          ...            0.2839001911345011  0.013200070608143067   \n4          ...           0.28361110391125166  0.013217050986265959   \n5          ...           0.28569177020672987   0.01332666754890284   \n\n                     KRW                   MXN                  MYR  \\\n1  0.0008167825599539457   0.04136536786904867  0.23124101992236926   \n2  0.0008165593737721764   0.04148799355049235  0.23134887504549057   \n3  0.0008184569862848258  0.041889124975854744  0.23231349359386383   \n4  0.0008165671641791045   0.04069745817556963   0.2316944056240207   \n5  0.0008282752895841108    0.0421627195651921   0.2325571449954027   \n\n                  NZD                   PHP                 SGD  \\\n1  0.6051066217732884   0.01978641026111529  0.7046330784813436   \n2  0.6058075004204272  0.019785792749908458  0.7047277469840234   \n3  0.6054159687325517   0.01976377522191641  0.7059704407839053   \n4  0.6050987114969861   0.01975839217031727  0.7061632784769281   \n5   0.614289748658571  0.019856861169940846  0.7097363612633777   \n\n                    THB                   ZAR  \n1   0.03083588321084389  0.053727491056213814  \n2  0.030873614444063537    0.0538725741888207  \n3   0.03086887206058191   0.05448250911977811  \n4  0.030912224199790946  0.053657244855926725  \n5  0.030883689232167194   0.05532832753393158  \n\n[5 rows x 34 columns]"
          },
          "metadata": {}
        }
      ]
    },
    {
      "metadata": {
        "trusted": true
      },
      "cell_type": "markdown",
      "source": "For our analysis, we want to focus on the latest FX Rate available in the file. You could take the first row available in the DataFrame however a more robust method would be to use the max() function so how the data is sorted becomes irrelevant.  To verify the correct value will work before we filter the DataFrame, use this command."
    },
    {
      "metadata": {
        "trusted": true
      },
      "cell_type": "code",
      "source": "df_fx_rates['Date'].max()",
      "execution_count": 10,
      "outputs": [
        {
          "output_type": "execute_result",
          "execution_count": 10,
          "data": {
            "text/plain": "'2020-05-07'"
          },
          "metadata": {}
        }
      ]
    },
    {
      "metadata": {},
      "cell_type": "markdown",
      "source": "From the prior step, we are confident that our filter will use the correct Date value, so we will create a new DataFrame with only one the specific date value so we can join the results in later steps. The new DataFrame is named “df_fx_rates_max_date” and is a result of filtering the original DataFrame named “df_fx_rates” by the “Date” field where only the calculated max Date value will be returned.  We add a head() function to validate the results in the Notebook."
    },
    {
      "metadata": {
        "trusted": true
      },
      "cell_type": "code",
      "source": "df_fx_rates_max_date = df_fx_rates[df_fx_rates.Date==df_fx_rates['Date'].max()]",
      "execution_count": 11,
      "outputs": []
    },
    {
      "metadata": {
        "trusted": true
      },
      "cell_type": "code",
      "source": "df_fx_rates_max_date.head()",
      "execution_count": 12,
      "outputs": [
        {
          "output_type": "execute_result",
          "execution_count": 12,
          "data": {
            "text/html": "<div>\n<table border=\"1\" class=\"dataframe\">\n  <thead>\n    <tr style=\"text-align: right;\">\n      <th></th>\n      <th>Date</th>\n      <th>EUR</th>\n      <th>JPY</th>\n      <th>BGN</th>\n      <th>CZK</th>\n      <th>DKK</th>\n      <th>GBP</th>\n      <th>HUF</th>\n      <th>PLN</th>\n      <th>RON</th>\n      <th>...</th>\n      <th>ILS</th>\n      <th>INR</th>\n      <th>KRW</th>\n      <th>MXN</th>\n      <th>MYR</th>\n      <th>NZD</th>\n      <th>PHP</th>\n      <th>SGD</th>\n      <th>THB</th>\n      <th>ZAR</th>\n    </tr>\n  </thead>\n  <tbody>\n    <tr>\n      <th>1</th>\n      <td>2020-05-07</td>\n      <td>1.0783</td>\n      <td>0.009383865633974415</td>\n      <td>0.5513344922793741</td>\n      <td>0.03970469106708888</td>\n      <td>0.14453454862274648</td>\n      <td>1.2326527812707195</td>\n      <td>0.0030865010304556902</td>\n      <td>0.23716101788110056</td>\n      <td>0.2235513631180678</td>\n      <td>...</td>\n      <td>0.28465457617275153</td>\n      <td>0.013187229801207066</td>\n      <td>0.0008167825599539457</td>\n      <td>0.04136536786904867</td>\n      <td>0.23124101992236926</td>\n      <td>0.6051066217732884</td>\n      <td>0.01978641026111529</td>\n      <td>0.7046330784813436</td>\n      <td>0.03083588321084389</td>\n      <td>0.053727491056213814</td>\n    </tr>\n  </tbody>\n</table>\n<p>1 rows × 34 columns</p>\n</div>",
            "text/plain": "         Date     EUR                   JPY                 BGN  \\\n1  2020-05-07  1.0783  0.009383865633974415  0.5513344922793741   \n\n                   CZK                  DKK                 GBP  \\\n1  0.03970469106708888  0.14453454862274648  1.2326527812707195   \n\n                     HUF                  PLN                 RON  \\\n1  0.0030865010304556902  0.23716101788110056  0.2235513631180678   \n\n           ...                           ILS                   INR  \\\n1          ...           0.28465457617275153  0.013187229801207066   \n\n                     KRW                  MXN                  MYR  \\\n1  0.0008167825599539457  0.04136536786904867  0.23124101992236926   \n\n                  NZD                  PHP                 SGD  \\\n1  0.6051066217732884  0.01978641026111529  0.7046330784813436   \n\n                   THB                   ZAR  \n1  0.03083588321084389  0.053727491056213814  \n\n[1 rows x 34 columns]"
          },
          "metadata": {}
        }
      ]
    },
    {
      "metadata": {},
      "cell_type": "markdown",
      "source": "We still have more work to do in order to join this data to our original Bond DataFrame. We need to transform it using the transpose() function which will change all the columns into rows.  In other technologies, this concept is called a pivot, crosstab or crosstable.  The results are stored in a new DataFrame called “df_reates_transposed”.  We rename the columns to make it easier to work with along with running a head() command to preview the results."
    },
    {
      "metadata": {
        "trusted": true
      },
      "cell_type": "code",
      "source": "df_rates_transposed = df_fx_rates_max_date.transpose()\ndf_rates_transposed.columns.name = 'Currency'\ndf_rates_transposed.columns = ['Currency_Value']\ndf_rates_transposed.head(10)",
      "execution_count": 13,
      "outputs": [
        {
          "output_type": "execute_result",
          "execution_count": 13,
          "data": {
            "text/html": "<div>\n<table border=\"1\" class=\"dataframe\">\n  <thead>\n    <tr style=\"text-align: right;\">\n      <th></th>\n      <th>Currency_Value</th>\n    </tr>\n  </thead>\n  <tbody>\n    <tr>\n      <th>Date</th>\n      <td>2020-05-07</td>\n    </tr>\n    <tr>\n      <th>EUR</th>\n      <td>1.0783</td>\n    </tr>\n    <tr>\n      <th>JPY</th>\n      <td>0.009383865633974415</td>\n    </tr>\n    <tr>\n      <th>BGN</th>\n      <td>0.5513344922793741</td>\n    </tr>\n    <tr>\n      <th>CZK</th>\n      <td>0.03970469106708888</td>\n    </tr>\n    <tr>\n      <th>DKK</th>\n      <td>0.14453454862274648</td>\n    </tr>\n    <tr>\n      <th>GBP</th>\n      <td>1.2326527812707195</td>\n    </tr>\n    <tr>\n      <th>HUF</th>\n      <td>0.0030865010304556902</td>\n    </tr>\n    <tr>\n      <th>PLN</th>\n      <td>0.23716101788110056</td>\n    </tr>\n    <tr>\n      <th>RON</th>\n      <td>0.2235513631180678</td>\n    </tr>\n  </tbody>\n</table>\n</div>",
            "text/plain": "             Currency_Value\nDate             2020-05-07\nEUR                  1.0783\nJPY    0.009383865633974415\nBGN      0.5513344922793741\nCZK     0.03970469106708888\nDKK     0.14453454862274648\nGBP      1.2326527812707195\nHUF   0.0030865010304556902\nPLN     0.23716101788110056\nRON      0.2235513631180678"
          },
          "metadata": {}
        }
      ]
    },
    {
      "metadata": {
        "trusted": true
      },
      "cell_type": "markdown",
      "source": "We are very close to having our reference table available with all the FX Rates by Currency formatted correctly but we notice on the first row in Figure 14 that the “Date” value is mixed in with our Currencies. This might be an extra step in the process but the need to have conformed and consistent data values represented in structured data has been reinforced throughout the book so let’s clean up the DataFrame by dropping the “Date” record.  We also use the reindex() function to make it easier to join in the next step and then run the head() command to verify the results."
    },
    {
      "metadata": {
        "trusted": true
      },
      "cell_type": "code",
      "source": "df_rates_transposed = df_rates_transposed.drop('Date')\ndf_rates_transposed = df_rates_transposed.reindex()\ndf_rates_transposed.head()",
      "execution_count": 14,
      "outputs": [
        {
          "output_type": "execute_result",
          "execution_count": 14,
          "data": {
            "text/html": "<div>\n<table border=\"1\" class=\"dataframe\">\n  <thead>\n    <tr style=\"text-align: right;\">\n      <th></th>\n      <th>Currency_Value</th>\n    </tr>\n  </thead>\n  <tbody>\n    <tr>\n      <th>EUR</th>\n      <td>1.0783</td>\n    </tr>\n    <tr>\n      <th>JPY</th>\n      <td>0.009383865633974415</td>\n    </tr>\n    <tr>\n      <th>BGN</th>\n      <td>0.5513344922793741</td>\n    </tr>\n    <tr>\n      <th>CZK</th>\n      <td>0.03970469106708888</td>\n    </tr>\n    <tr>\n      <th>DKK</th>\n      <td>0.14453454862274648</td>\n    </tr>\n  </tbody>\n</table>\n</div>",
            "text/plain": "           Currency_Value\nEUR                1.0783\nJPY  0.009383865633974415\nBGN    0.5513344922793741\nCZK   0.03970469106708888\nDKK   0.14453454862274648"
          },
          "metadata": {}
        }
      ]
    },
    {
      "metadata": {},
      "cell_type": "markdown",
      "source": "We are now ready to join the transformed and cleaned FX Rates into our original Bonds source using the common “Currency” join key field. Because we want all the records from the “df_greenbonds” source and only the matching values from the “df_rates_transposed”, we use a left join.  To display and verify the results, we use the head() command."
    },
    {
      "metadata": {
        "trusted": true
      },
      "cell_type": "code",
      "source": "df_greenbonds_revised = df_greenbonds.merge(df_rates_transposed, how='left', left_on='Currency', right_index=True)\ndf_greenbonds_revised.head()",
      "execution_count": 15,
      "outputs": [
        {
          "output_type": "execute_result",
          "execution_count": 15,
          "data": {
            "text/html": "<div>\n<table border=\"1\" class=\"dataframe\">\n  <thead>\n    <tr style=\"text-align: right;\">\n      <th></th>\n      <th>Type</th>\n      <th>Maturity</th>\n      <th>Currency</th>\n      <th>Volume</th>\n      <th>Coupon</th>\n      <th>Settlement Date</th>\n      <th>Maturity Date</th>\n      <th>USD Equivalent</th>\n      <th>ISIN</th>\n      <th>Final Terms</th>\n      <th>Currency_Value</th>\n    </tr>\n  </thead>\n  <tbody>\n    <tr>\n      <th>0</th>\n      <td>Green</td>\n      <td>5</td>\n      <td>INR</td>\n      <td>80000000</td>\n      <td>0.04500</td>\n      <td>04/05/2018 12:00:00 AM</td>\n      <td>03/24/2023 12:00:00 AM</td>\n      <td>1230000</td>\n      <td>XS1801822419</td>\n      <td>NaN</td>\n      <td>0.013187229801207066</td>\n    </tr>\n    <tr>\n      <th>1</th>\n      <td>Green</td>\n      <td>5</td>\n      <td>INR</td>\n      <td>80000000</td>\n      <td>0.04050</td>\n      <td>11/28/2017 12:00:00 AM</td>\n      <td>11/28/2022 12:00:00 AM</td>\n      <td>1230000</td>\n      <td>XS1724511958</td>\n      <td>NaN</td>\n      <td>0.013187229801207066</td>\n    </tr>\n    <tr>\n      <th>2</th>\n      <td>Green</td>\n      <td>5</td>\n      <td>INR</td>\n      <td>1608700000</td>\n      <td>0.05000</td>\n      <td>09/27/2017 12:00:00 AM</td>\n      <td>NaN</td>\n      <td>25100000</td>\n      <td>XS1687324068</td>\n      <td>http://pubdocs.worldbank.org/en/20621154455317...</td>\n      <td>0.013187229801207066</td>\n    </tr>\n    <tr>\n      <th>3</th>\n      <td>Green</td>\n      <td>3</td>\n      <td>MYR</td>\n      <td>65000000</td>\n      <td>0.02950</td>\n      <td>03/13/2017 12:00:00 AM</td>\n      <td>03/13/2020 12:00:00 AM</td>\n      <td>14620000</td>\n      <td>XS1576723552</td>\n      <td>http://pubdocs.worldbank.org/en/30221154455317...</td>\n      <td>0.23124101992236926</td>\n    </tr>\n    <tr>\n      <th>4</th>\n      <td>Green</td>\n      <td>3</td>\n      <td>USD</td>\n      <td>100000000</td>\n      <td>0.01181</td>\n      <td>11/14/2016 12:00:00 AM</td>\n      <td>12/15/2019 12:00:00 AM</td>\n      <td>100000000</td>\n      <td>XS1517268105</td>\n      <td>NaN</td>\n      <td>NaN</td>\n    </tr>\n  </tbody>\n</table>\n</div>",
            "text/plain": "    Type  Maturity Currency      Volume   Coupon         Settlement Date  \\\n0  Green         5      INR    80000000  0.04500  04/05/2018 12:00:00 AM   \n1  Green         5      INR    80000000  0.04050  11/28/2017 12:00:00 AM   \n2  Green         5      INR  1608700000  0.05000  09/27/2017 12:00:00 AM   \n3  Green         3      MYR    65000000  0.02950  03/13/2017 12:00:00 AM   \n4  Green         3      USD   100000000  0.01181  11/14/2016 12:00:00 AM   \n\n            Maturity Date  USD Equivalent          ISIN  \\\n0  03/24/2023 12:00:00 AM         1230000  XS1801822419   \n1  11/28/2022 12:00:00 AM         1230000  XS1724511958   \n2                     NaN        25100000  XS1687324068   \n3  03/13/2020 12:00:00 AM        14620000  XS1576723552   \n4  12/15/2019 12:00:00 AM       100000000  XS1517268105   \n\n                                         Final Terms        Currency_Value  \n0                                                NaN  0.013187229801207066  \n1                                                NaN  0.013187229801207066  \n2  http://pubdocs.worldbank.org/en/20621154455317...  0.013187229801207066  \n3  http://pubdocs.worldbank.org/en/30221154455317...   0.23124101992236926  \n4                                                NaN                   NaN  "
          },
          "metadata": {}
        }
      ]
    },
    {
      "metadata": {},
      "cell_type": "markdown",
      "source": "An advantage of constantly running the head() command to validate results in each step is you can make observations about the data as you prepare and clean it further analysis. In Figure 16, we see a null() in the “Currency_Value” which is displayed as “NaN’.  The is a result of the left join and expected because there was no value of “USD” in the FX Rates source data.  This makes sense because you don’t need to convert the Currency of USD but will have an impact when we attempt to create calculations from the values in this column.  The solution in this case is to just convert all the “NaN” values to 1 because the FX Rate conversion for USD is one.  There will be no output after running this command."
    },
    {
      "metadata": {
        "trusted": true
      },
      "cell_type": "code",
      "source": "df_greenbonds_revised[\"Currency_Value\"].fillna(1, inplace=True)",
      "execution_count": 16,
      "outputs": []
    },
    {
      "metadata": {},
      "cell_type": "markdown",
      "source": "Working with data now for multiple chapters, you realize the importance of having consistent data types. Because our sources are CSV, the defined type for each source is unknown however we can solve for that by applying the astype() function for the two columns we plan on using for calculating the Local Currency Rate by converting them into “float”.  There will be no output after running this command."
    },
    {
      "metadata": {
        "trusted": true
      },
      "cell_type": "code",
      "source": "df_greenbonds_revised[\"Currency_Value\"] = df_greenbonds_revised.Currency_Value.astype(float)\ndf_greenbonds_revised[\"USD Equivalent\"] = df_greenbonds_revised[\"USD Equivalent\"].astype(float)",
      "execution_count": 17,
      "outputs": []
    },
    {
      "metadata": {},
      "cell_type": "markdown",
      "source": "We are now ready to create a new calculated column in our existing DataFrame which will divide the “USD Equivalent” column by the “Currency_Value”. The result will be stored in a new column named “Local CCY” in the same DataFrame.  There will be no output after running this command."
    },
    {
      "metadata": {
        "trusted": true
      },
      "cell_type": "code",
      "source": "df_greenbonds_revised['Local CCY'] = df_greenbonds_revised['USD Equivalent']/df_greenbonds_revised['Currency_Value']",
      "execution_count": 18,
      "outputs": []
    },
    {
      "metadata": {},
      "cell_type": "markdown",
      "source": "Now we can convert the data types of the specific columns back to integer and we can focus our attention to key columns by explicitly identify them using the following commands."
    },
    {
      "metadata": {
        "trusted": true
      },
      "cell_type": "code",
      "source": "df_greenbonds_revised['Local CCY'] = df_greenbonds_revised['Local CCY'].astype(int)\ndf_greenbonds_revised['USD Equivalent'] = df_greenbonds_revised['USD Equivalent'].astype(int)\ndf_greenbonds_revised[['ISIN', 'Currency', 'USD Equivalent', 'Currency_Value', 'Local CCY']]",
      "execution_count": 19,
      "outputs": [
        {
          "output_type": "execute_result",
          "execution_count": 19,
          "data": {
            "text/html": "<div>\n<table border=\"1\" class=\"dataframe\">\n  <thead>\n    <tr style=\"text-align: right;\">\n      <th></th>\n      <th>ISIN</th>\n      <th>Currency</th>\n      <th>USD Equivalent</th>\n      <th>Currency_Value</th>\n      <th>Local CCY</th>\n    </tr>\n  </thead>\n  <tbody>\n    <tr>\n      <th>0</th>\n      <td>XS1801822419</td>\n      <td>INR</td>\n      <td>1230000</td>\n      <td>0.013187</td>\n      <td>93272053</td>\n    </tr>\n    <tr>\n      <th>1</th>\n      <td>XS1724511958</td>\n      <td>INR</td>\n      <td>1230000</td>\n      <td>0.013187</td>\n      <td>93272053</td>\n    </tr>\n    <tr>\n      <th>2</th>\n      <td>XS1687324068</td>\n      <td>INR</td>\n      <td>25100000</td>\n      <td>0.013187</td>\n      <td>1903356533</td>\n    </tr>\n    <tr>\n      <th>3</th>\n      <td>XS1576723552</td>\n      <td>MYR</td>\n      <td>14620000</td>\n      <td>0.231241</td>\n      <td>63224076</td>\n    </tr>\n    <tr>\n      <th>4</th>\n      <td>XS1517268105</td>\n      <td>USD</td>\n      <td>100000000</td>\n      <td>1.000000</td>\n      <td>100000000</td>\n    </tr>\n    <tr>\n      <th>5</th>\n      <td>XS1432564133</td>\n      <td>INR</td>\n      <td>2990000</td>\n      <td>0.013187</td>\n      <td>226734503</td>\n    </tr>\n    <tr>\n      <th>6</th>\n      <td>XS1432390125</td>\n      <td>INR</td>\n      <td>2090000</td>\n      <td>0.013187</td>\n      <td>158486659</td>\n    </tr>\n    <tr>\n      <th>7</th>\n      <td>XS1386304395</td>\n      <td>USD</td>\n      <td>50000000</td>\n      <td>1.000000</td>\n      <td>50000000</td>\n    </tr>\n    <tr>\n      <th>8</th>\n      <td>XS1319581960</td>\n      <td>USD</td>\n      <td>16390000</td>\n      <td>1.000000</td>\n      <td>16390000</td>\n    </tr>\n    <tr>\n      <th>9</th>\n      <td>XS1315186921</td>\n      <td>BRL</td>\n      <td>25640000</td>\n      <td>0.173162</td>\n      <td>148069038</td>\n    </tr>\n    <tr>\n      <th>10</th>\n      <td>XS1296661298</td>\n      <td>USD</td>\n      <td>1000000</td>\n      <td>1.000000</td>\n      <td>1000000</td>\n    </tr>\n    <tr>\n      <th>11</th>\n      <td>XS1296575969</td>\n      <td>USD</td>\n      <td>1000000</td>\n      <td>1.000000</td>\n      <td>1000000</td>\n    </tr>\n    <tr>\n      <th>12</th>\n      <td>XS1296575373</td>\n      <td>USD</td>\n      <td>1000000</td>\n      <td>1.000000</td>\n      <td>1000000</td>\n    </tr>\n    <tr>\n      <th>13</th>\n      <td>XS1249904597</td>\n      <td>USD</td>\n      <td>50000000</td>\n      <td>1.000000</td>\n      <td>50000000</td>\n    </tr>\n    <tr>\n      <th>14</th>\n      <td>XS1241051967</td>\n      <td>INR</td>\n      <td>4080000</td>\n      <td>0.013187</td>\n      <td>309390225</td>\n    </tr>\n    <tr>\n      <th>15</th>\n      <td>XS1233786950</td>\n      <td>MXN</td>\n      <td>17340000</td>\n      <td>0.041365</td>\n      <td>419191243</td>\n    </tr>\n    <tr>\n      <th>16</th>\n      <td>XS1233613188</td>\n      <td>USD</td>\n      <td>83540000</td>\n      <td>1.000000</td>\n      <td>83540000</td>\n    </tr>\n    <tr>\n      <th>17</th>\n      <td>XS1225604815</td>\n      <td>USD</td>\n      <td>50000000</td>\n      <td>1.000000</td>\n      <td>50000000</td>\n    </tr>\n    <tr>\n      <th>18</th>\n      <td>XS1225179420</td>\n      <td>USD</td>\n      <td>80000000</td>\n      <td>1.000000</td>\n      <td>80000000</td>\n    </tr>\n    <tr>\n      <th>19</th>\n      <td>XS1222512094</td>\n      <td>USD</td>\n      <td>10000000</td>\n      <td>1.000000</td>\n      <td>10000000</td>\n    </tr>\n    <tr>\n      <th>20</th>\n      <td>XS1218772793</td>\n      <td>INR</td>\n      <td>1010000</td>\n      <td>0.013187</td>\n      <td>76589246</td>\n    </tr>\n    <tr>\n      <th>21</th>\n      <td>XS1207782266</td>\n      <td>USD</td>\n      <td>40000000</td>\n      <td>1.000000</td>\n      <td>40000000</td>\n    </tr>\n    <tr>\n      <th>22</th>\n      <td>XS1205479170</td>\n      <td>USD</td>\n      <td>10000000</td>\n      <td>1.000000</td>\n      <td>10000000</td>\n    </tr>\n    <tr>\n      <th>23</th>\n      <td>XS1202767866</td>\n      <td>INR</td>\n      <td>1010000</td>\n      <td>0.013187</td>\n      <td>76589246</td>\n    </tr>\n    <tr>\n      <th>24</th>\n      <td>XS1201913651</td>\n      <td>USD</td>\n      <td>103280000</td>\n      <td>1.000000</td>\n      <td>103280000</td>\n    </tr>\n    <tr>\n      <th>25</th>\n      <td>XS1201896468</td>\n      <td>INR</td>\n      <td>1770000</td>\n      <td>0.013187</td>\n      <td>134220759</td>\n    </tr>\n    <tr>\n      <th>26</th>\n      <td>XS1199554087</td>\n      <td>USD</td>\n      <td>13750000</td>\n      <td>1.000000</td>\n      <td>13750000</td>\n    </tr>\n    <tr>\n      <th>27</th>\n      <td>XS1198022706</td>\n      <td>TRY</td>\n      <td>14480000</td>\n      <td>0.138613</td>\n      <td>104463336</td>\n    </tr>\n    <tr>\n      <th>28</th>\n      <td>XS1192988738</td>\n      <td>EUR</td>\n      <td>36940000</td>\n      <td>1.078300</td>\n      <td>34257627</td>\n    </tr>\n    <tr>\n      <th>29</th>\n      <td>XS1128972244</td>\n      <td>USD</td>\n      <td>22750000</td>\n      <td>1.000000</td>\n      <td>22750000</td>\n    </tr>\n    <tr>\n      <th>...</th>\n      <td>...</td>\n      <td>...</td>\n      <td>...</td>\n      <td>...</td>\n      <td>...</td>\n    </tr>\n    <tr>\n      <th>85</th>\n      <td>XS0485770241</td>\n      <td>SEK</td>\n      <td>68740000</td>\n      <td>0.101535</td>\n      <td>677008995</td>\n    </tr>\n    <tr>\n      <th>86</th>\n      <td>XS0479886672</td>\n      <td>NZD</td>\n      <td>110700000</td>\n      <td>0.605107</td>\n      <td>182942965</td>\n    </tr>\n    <tr>\n      <th>87</th>\n      <td>XS0398811959</td>\n      <td>SEK</td>\n      <td>18380000</td>\n      <td>0.101535</td>\n      <td>181021608</td>\n    </tr>\n    <tr>\n      <th>88</th>\n      <td>XS0398811959</td>\n      <td>SEK</td>\n      <td>29200000</td>\n      <td>0.101535</td>\n      <td>287586015</td>\n    </tr>\n    <tr>\n      <th>89</th>\n      <td>XS0398811959</td>\n      <td>SEK</td>\n      <td>300000000</td>\n      <td>0.101535</td>\n      <td>2954650839</td>\n    </tr>\n    <tr>\n      <th>90</th>\n      <td>US45905UZT41</td>\n      <td>USD</td>\n      <td>500000000</td>\n      <td>1.000000</td>\n      <td>500000000</td>\n    </tr>\n    <tr>\n      <th>91</th>\n      <td>US45905UYK41</td>\n      <td>USD</td>\n      <td>1030000</td>\n      <td>1.000000</td>\n      <td>1030000</td>\n    </tr>\n    <tr>\n      <th>92</th>\n      <td>US45905UWE09</td>\n      <td>USD</td>\n      <td>280000000</td>\n      <td>1.000000</td>\n      <td>280000000</td>\n    </tr>\n    <tr>\n      <th>93</th>\n      <td>US45905USP02</td>\n      <td>USD</td>\n      <td>1330000</td>\n      <td>1.000000</td>\n      <td>1330000</td>\n    </tr>\n    <tr>\n      <th>94</th>\n      <td>US45905USL97</td>\n      <td>USD</td>\n      <td>15000000</td>\n      <td>1.000000</td>\n      <td>15000000</td>\n    </tr>\n    <tr>\n      <th>95</th>\n      <td>US45905URQ93</td>\n      <td>USD</td>\n      <td>35000000</td>\n      <td>1.000000</td>\n      <td>35000000</td>\n    </tr>\n    <tr>\n      <th>96</th>\n      <td>US45905URL07</td>\n      <td>USD</td>\n      <td>600000000</td>\n      <td>1.000000</td>\n      <td>600000000</td>\n    </tr>\n    <tr>\n      <th>97</th>\n      <td>US45905UQH04</td>\n      <td>USD</td>\n      <td>5000000</td>\n      <td>1.000000</td>\n      <td>5000000</td>\n    </tr>\n    <tr>\n      <th>98</th>\n      <td>US45905UQE72</td>\n      <td>USD</td>\n      <td>250000000</td>\n      <td>1.000000</td>\n      <td>250000000</td>\n    </tr>\n    <tr>\n      <th>99</th>\n      <td>US45905UNQ30</td>\n      <td>USD</td>\n      <td>550000000</td>\n      <td>1.000000</td>\n      <td>550000000</td>\n    </tr>\n    <tr>\n      <th>100</th>\n      <td>US45905UNJ96</td>\n      <td>USD</td>\n      <td>550000000</td>\n      <td>1.000000</td>\n      <td>550000000</td>\n    </tr>\n    <tr>\n      <th>101</th>\n      <td>US45905UN834</td>\n      <td>USD</td>\n      <td>15000000</td>\n      <td>1.000000</td>\n      <td>15000000</td>\n    </tr>\n    <tr>\n      <th>102</th>\n      <td>US45905ULF92</td>\n      <td>USD</td>\n      <td>5000000</td>\n      <td>1.000000</td>\n      <td>5000000</td>\n    </tr>\n    <tr>\n      <th>103</th>\n      <td>US45905ULE28</td>\n      <td>USD</td>\n      <td>10000000</td>\n      <td>1.000000</td>\n      <td>10000000</td>\n    </tr>\n    <tr>\n      <th>104</th>\n      <td>US45905UL366</td>\n      <td>USD</td>\n      <td>15000000</td>\n      <td>1.000000</td>\n      <td>15000000</td>\n    </tr>\n    <tr>\n      <th>105</th>\n      <td>US45905UKM52</td>\n      <td>USD</td>\n      <td>50000000</td>\n      <td>1.000000</td>\n      <td>50000000</td>\n    </tr>\n    <tr>\n      <th>106</th>\n      <td>US45905UKC70</td>\n      <td>USD</td>\n      <td>400000000</td>\n      <td>1.000000</td>\n      <td>400000000</td>\n    </tr>\n    <tr>\n      <th>107</th>\n      <td>US45905UJC99</td>\n      <td>USD</td>\n      <td>7690000</td>\n      <td>1.000000</td>\n      <td>7690000</td>\n    </tr>\n    <tr>\n      <th>108</th>\n      <td>US45905UHN72</td>\n      <td>USD</td>\n      <td>10000000</td>\n      <td>1.000000</td>\n      <td>10000000</td>\n    </tr>\n    <tr>\n      <th>109</th>\n      <td>US45905UGT51</td>\n      <td>USD</td>\n      <td>130000000</td>\n      <td>1.000000</td>\n      <td>130000000</td>\n    </tr>\n    <tr>\n      <th>110</th>\n      <td>US45905UGD00</td>\n      <td>USD</td>\n      <td>300000000</td>\n      <td>1.000000</td>\n      <td>300000000</td>\n    </tr>\n    <tr>\n      <th>111</th>\n      <td>US45905UG572</td>\n      <td>USD</td>\n      <td>50000000</td>\n      <td>1.000000</td>\n      <td>50000000</td>\n    </tr>\n    <tr>\n      <th>112</th>\n      <td>US45905UG408</td>\n      <td>USD</td>\n      <td>300000000</td>\n      <td>1.000000</td>\n      <td>300000000</td>\n    </tr>\n    <tr>\n      <th>113</th>\n      <td>JP500102AGJ1</td>\n      <td>USD</td>\n      <td>100000000</td>\n      <td>1.000000</td>\n      <td>100000000</td>\n    </tr>\n    <tr>\n      <th>114</th>\n      <td>AU3CB0220424</td>\n      <td>AUD</td>\n      <td>281010000</td>\n      <td>0.645534</td>\n      <td>435314016</td>\n    </tr>\n  </tbody>\n</table>\n<p>115 rows × 5 columns</p>\n</div>",
            "text/plain": "             ISIN Currency  USD Equivalent  Currency_Value   Local CCY\n0    XS1801822419      INR         1230000        0.013187    93272053\n1    XS1724511958      INR         1230000        0.013187    93272053\n2    XS1687324068      INR        25100000        0.013187  1903356533\n3    XS1576723552      MYR        14620000        0.231241    63224076\n4    XS1517268105      USD       100000000        1.000000   100000000\n5    XS1432564133      INR         2990000        0.013187   226734503\n6    XS1432390125      INR         2090000        0.013187   158486659\n7    XS1386304395      USD        50000000        1.000000    50000000\n8    XS1319581960      USD        16390000        1.000000    16390000\n9    XS1315186921      BRL        25640000        0.173162   148069038\n10   XS1296661298      USD         1000000        1.000000     1000000\n11   XS1296575969      USD         1000000        1.000000     1000000\n12   XS1296575373      USD         1000000        1.000000     1000000\n13   XS1249904597      USD        50000000        1.000000    50000000\n14   XS1241051967      INR         4080000        0.013187   309390225\n15   XS1233786950      MXN        17340000        0.041365   419191243\n16   XS1233613188      USD        83540000        1.000000    83540000\n17   XS1225604815      USD        50000000        1.000000    50000000\n18   XS1225179420      USD        80000000        1.000000    80000000\n19   XS1222512094      USD        10000000        1.000000    10000000\n20   XS1218772793      INR         1010000        0.013187    76589246\n21   XS1207782266      USD        40000000        1.000000    40000000\n22   XS1205479170      USD        10000000        1.000000    10000000\n23   XS1202767866      INR         1010000        0.013187    76589246\n24   XS1201913651      USD       103280000        1.000000   103280000\n25   XS1201896468      INR         1770000        0.013187   134220759\n26   XS1199554087      USD        13750000        1.000000    13750000\n27   XS1198022706      TRY        14480000        0.138613   104463336\n28   XS1192988738      EUR        36940000        1.078300    34257627\n29   XS1128972244      USD        22750000        1.000000    22750000\n..            ...      ...             ...             ...         ...\n85   XS0485770241      SEK        68740000        0.101535   677008995\n86   XS0479886672      NZD       110700000        0.605107   182942965\n87   XS0398811959      SEK        18380000        0.101535   181021608\n88   XS0398811959      SEK        29200000        0.101535   287586015\n89   XS0398811959      SEK       300000000        0.101535  2954650839\n90   US45905UZT41      USD       500000000        1.000000   500000000\n91   US45905UYK41      USD         1030000        1.000000     1030000\n92   US45905UWE09      USD       280000000        1.000000   280000000\n93   US45905USP02      USD         1330000        1.000000     1330000\n94   US45905USL97      USD        15000000        1.000000    15000000\n95   US45905URQ93      USD        35000000        1.000000    35000000\n96   US45905URL07      USD       600000000        1.000000   600000000\n97   US45905UQH04      USD         5000000        1.000000     5000000\n98   US45905UQE72      USD       250000000        1.000000   250000000\n99   US45905UNQ30      USD       550000000        1.000000   550000000\n100  US45905UNJ96      USD       550000000        1.000000   550000000\n101  US45905UN834      USD        15000000        1.000000    15000000\n102  US45905ULF92      USD         5000000        1.000000     5000000\n103  US45905ULE28      USD        10000000        1.000000    10000000\n104  US45905UL366      USD        15000000        1.000000    15000000\n105  US45905UKM52      USD        50000000        1.000000    50000000\n106  US45905UKC70      USD       400000000        1.000000   400000000\n107  US45905UJC99      USD         7690000        1.000000     7690000\n108  US45905UHN72      USD        10000000        1.000000    10000000\n109  US45905UGT51      USD       130000000        1.000000   130000000\n110  US45905UGD00      USD       300000000        1.000000   300000000\n111  US45905UG572      USD        50000000        1.000000    50000000\n112  US45905UG408      USD       300000000        1.000000   300000000\n113  JP500102AGJ1      USD       100000000        1.000000   100000000\n114  AU3CB0220424      AUD       281010000        0.645534   435314016\n\n[115 rows x 5 columns]"
          },
          "metadata": {}
        }
      ]
    },
    {
      "metadata": {},
      "cell_type": "markdown",
      "source": "To analyze the results, lets group the data by Currency and only sum the values for both the “USD Equilvalent” and “Local CCY” fields using the following commands."
    },
    {
      "metadata": {
        "trusted": true
      },
      "cell_type": "code",
      "source": "df_greenbonds_revised[['Currency', 'USD Equivalent', 'Local CCY']].groupby(['Currency']).sum().astype(int)",
      "execution_count": 20,
      "outputs": [
        {
          "output_type": "execute_result",
          "execution_count": 20,
          "data": {
            "text/html": "<div>\n<table border=\"1\" class=\"dataframe\">\n  <thead>\n    <tr style=\"text-align: right;\">\n      <th></th>\n      <th>USD Equivalent</th>\n      <th>Local CCY</th>\n    </tr>\n    <tr>\n      <th>Currency</th>\n      <th></th>\n      <th></th>\n    </tr>\n  </thead>\n  <tbody>\n    <tr>\n      <th>AUD</th>\n      <td>606880000</td>\n      <td>940120883</td>\n    </tr>\n    <tr>\n      <th>BRL</th>\n      <td>288510000</td>\n      <td>1666123174</td>\n    </tr>\n    <tr>\n      <th>CAD</th>\n      <td>10570000</td>\n      <td>14877203</td>\n    </tr>\n    <tr>\n      <th>COP</th>\n      <td>12910000</td>\n      <td>12910000</td>\n    </tr>\n    <tr>\n      <th>EUR</th>\n      <td>758690000</td>\n      <td>703598253</td>\n    </tr>\n    <tr>\n      <th>HUF</th>\n      <td>7450000</td>\n      <td>2413736436</td>\n    </tr>\n    <tr>\n      <th>INR</th>\n      <td>40510000</td>\n      <td>3071911277</td>\n    </tr>\n    <tr>\n      <th>JPY</th>\n      <td>1400000</td>\n      <td>149192247</td>\n    </tr>\n    <tr>\n      <th>MXN</th>\n      <td>36200000</td>\n      <td>875128200</td>\n    </tr>\n    <tr>\n      <th>MYR</th>\n      <td>23910000</td>\n      <td>103398608</td>\n    </tr>\n    <tr>\n      <th>NOK</th>\n      <td>66670000</td>\n      <td>682620917</td>\n    </tr>\n    <tr>\n      <th>NZD</th>\n      <td>145530000</td>\n      <td>240503068</td>\n    </tr>\n    <tr>\n      <th>PLN</th>\n      <td>19650000</td>\n      <td>82855100</td>\n    </tr>\n    <tr>\n      <th>RUB</th>\n      <td>78040000</td>\n      <td>5759464900</td>\n    </tr>\n    <tr>\n      <th>SEK</th>\n      <td>669710000</td>\n      <td>6595864043</td>\n    </tr>\n    <tr>\n      <th>TRY</th>\n      <td>208560000</td>\n      <td>1504618335</td>\n    </tr>\n    <tr>\n      <th>USD</th>\n      <td>5138800000</td>\n      <td>5138800000</td>\n    </tr>\n    <tr>\n      <th>ZAR</th>\n      <td>98900000</td>\n      <td>1840770860</td>\n    </tr>\n  </tbody>\n</table>\n</div>",
            "text/plain": "          USD Equivalent   Local CCY\nCurrency                            \nAUD            606880000   940120883\nBRL            288510000  1666123174\nCAD             10570000    14877203\nCOP             12910000    12910000\nEUR            758690000   703598253\nHUF              7450000  2413736436\nINR             40510000  3071911277\nJPY              1400000   149192247\nMXN             36200000   875128200\nMYR             23910000   103398608\nNOK             66670000   682620917\nNZD            145530000   240503068\nPLN             19650000    82855100\nRUB             78040000  5759464900\nSEK            669710000  6595864043\nTRY            208560000  1504618335\nUSD           5138800000  5138800000\nZAR             98900000  1840770860"
          },
          "metadata": {}
        }
      ]
    },
    {
      "metadata": {},
      "cell_type": "markdown",
      "source": "Another type of analysis would be to see how the data is distributed by Currency visually by creating a horizontal bar chart using the matlibplot librarys’ plot() function."
    },
    {
      "metadata": {
        "trusted": true
      },
      "cell_type": "code",
      "source": "df_greenbonds_revised[['Currency', 'USD Equivalent']].groupby(['Currency']).size().plot(kind='barh');",
      "execution_count": 21,
      "outputs": [
        {
          "output_type": "display_data",
          "data": {
            "image/png": "[encoded data removed]",
            "text/plain": "<matplotlib.figure.Figure at 0x7fbe4f32b278>"
          },
          "metadata": {}
        }
      ]
    },
    {
      "metadata": {
        "trusted": true
      },
      "cell_type": "code",
      "source": "",
      "execution_count": null,
      "outputs": []
    }
  ],
  "metadata": {
    "kernelspec": {
      "name": "python3",
      "display_name": "Python 3",
      "language": "python"
    },
    "language_info": {
      "mimetype": "text/x-python",
      "nbconvert_exporter": "python",
      "name": "python",
      "pygments_lexer": "ipython3",
      "version": "3.5.4",
      "file_extension": ".py",
      "codemirror_mode": {
        "version": 3,
        "name": "ipython"
      }
    }
  },
  "nbformat": 4,
  "nbformat_minor": 1
}